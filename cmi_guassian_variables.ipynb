{
 "cells": [
  {
   "cell_type": "code",
   "execution_count": 1,
   "metadata": {},
   "outputs": [
    {
     "name": "stdout",
     "output_type": "stream",
     "text": [
      "[[1.01322936 0.03372871 0.79304614]\n",
      " [0.03372871 8.70631141 7.86940133]\n",
      " [0.79304614 7.86940133 8.65863189]]\n"
     ]
    }
   ],
   "source": [
    "import numpy as np\n",
    "import pandas as pd\n",
    "from scipy.stats import multivariate_normal\n",
    "import itertools\n",
    "\n",
    "np.random.seed(37)\n",
    "\n",
    "class Data(object):\n",
    "    def __init__(self, data, means, cov, points=50):\n",
    "        self.data = data\n",
    "        self.means = means\n",
    "        self.cov = cov\n",
    "        self.df = pd.DataFrame(data, columns=['x1', 'x2', 'x3'])\n",
    "        self.p_xyz = multivariate_normal(means, cov)\n",
    "        self.p_xz = multivariate_normal(means[[0, 2]], cov[[0, 2]][:, [0, 2]])\n",
    "        self.p_yz = multivariate_normal(means[[1, 2]], cov[[1, 2]][:, [1, 2]])\n",
    "        self.p_z = multivariate_normal(means[2], cov[2, 2])\n",
    "        self.x_vals = np.linspace(self.df.x1.min(), self.df.x1.max(), num=points, endpoint=True)\n",
    "        self.y_vals = np.linspace(self.df.x2.min(), self.df.x2.max(), num=points, endpoint=True)\n",
    "        self.z_vals = np.linspace(self.df.x3.min(), self.df.x3.max(), num=points, endpoint=True)\n",
    "\n",
    "    def get_cmi(self):\n",
    "        x_vals = self.x_vals\n",
    "        y_vals = self.y_vals\n",
    "        z_vals = self.z_vals\n",
    "        prod = itertools.product(*[x_vals, y_vals, z_vals])\n",
    "\n",
    "        p_z = self.p_z\n",
    "        p_xz = self.p_xz\n",
    "        p_yz = self.p_yz\n",
    "        p_xyz = self.p_xyz\n",
    "        quads = ((p_xyz.pdf([x, y, z]), p_z.pdf(z), p_xz.pdf([x, z]), p_yz.pdf([y, z])) for x, y, z in prod)\n",
    "\n",
    "        cmi = sum((xyz * (np.log(z) + np.log(xyz) - np.log(xz) - np.log(yz)) for xyz, z, xz, yz in quads))\n",
    "        return cmi\n",
    "\n",
    "\n",
    "def get_serial(N=1000):\n",
    "    x1 = np.random.normal(1, 1, N)\n",
    "    x3 = np.random.normal(1 + 3.5 * x1, 1, N)\n",
    "    x2 = np.random.normal(1 - 2.8 * x3, 3, N)\n",
    "\n",
    "    data = np.vstack([x1, x2, x3]).T\n",
    "    means = data.mean(axis=0)\n",
    "    cov = np.cov(data.T)\n",
    "\n",
    "    return Data(data, means, cov)\n",
    "\n",
    "def get_diverging(N=1000):\n",
    "    x3 = np.random.normal(1, 1, N)\n",
    "    x1 = np.random.normal(1 + 2.8 * x3, 1, N)\n",
    "    x2 = np.random.normal(1 - 2.8 * x3, 3, N)\n",
    "\n",
    "    data = np.vstack([x1, x2, x3]).T\n",
    "    means = data.mean(axis=0)\n",
    "    cov = np.cov(data.T)\n",
    "\n",
    "    return Data(data, means, cov)\n",
    "\n",
    "def get_converging(N=1000):\n",
    "    x1 = np.random.normal(2.8, 1, N)\n",
    "    x2 = np.random.normal(8.8, 3, N)\n",
    "    x3 = np.random.normal(1 + 0.8 * x1 + 0.9 * x2, 1, N)\n",
    "\n",
    "\n",
    "    data = np.vstack([x1, x2, x3]).T\n",
    "    means = data.mean(axis=0)\n",
    "    cov = np.cov(data.T)\n",
    "    print(cov)\n",
    "\n",
    "    return Data(data, means, cov)\n",
    "\n",
    "m_s = get_serial()\n",
    "m_d = get_diverging()\n",
    "m_c = get_converging()"
   ]
  },
  {
   "cell_type": "code",
   "execution_count": 2,
   "metadata": {},
   "outputs": [
    {
     "name": "stdout",
     "output_type": "stream",
     "text": [
      "CPU times: user 8.71 s, sys: 0 ns, total: 8.71 s\n",
      "Wall time: 8.73 s\n"
     ]
    },
    {
     "data": {
      "text/plain": [
       "0.012372411431840964"
      ]
     },
     "execution_count": 2,
     "metadata": {},
     "output_type": "execute_result"
    }
   ],
   "source": [
    "%%time\n",
    "m_s.get_cmi()"
   ]
  },
  {
   "cell_type": "code",
   "execution_count": 3,
   "metadata": {},
   "outputs": [
    {
     "name": "stdout",
     "output_type": "stream",
     "text": [
      "CPU times: user 8.98 s, sys: 0 ns, total: 8.98 s\n",
      "Wall time: 9.01 s\n"
     ]
    },
    {
     "data": {
      "text/plain": [
       "9.612131185749485e-05"
      ]
     },
     "execution_count": 3,
     "metadata": {},
     "output_type": "execute_result"
    }
   ],
   "source": [
    "%%time\n",
    "m_d.get_cmi()"
   ]
  },
  {
   "cell_type": "code",
   "execution_count": 4,
   "metadata": {},
   "outputs": [
    {
     "name": "stdout",
     "output_type": "stream",
     "text": [
      "CPU times: user 8.79 s, sys: 57.6 ms, total: 8.85 s\n",
      "Wall time: 8.8 s\n"
     ]
    },
    {
     "data": {
      "text/plain": [
       "11.209703669891105"
      ]
     },
     "execution_count": 4,
     "metadata": {},
     "output_type": "execute_result"
    }
   ],
   "source": [
    "%%time\n",
    "m_c.get_cmi()"
   ]
  },
  {
   "cell_type": "code",
   "execution_count": 6,
   "metadata": {},
   "outputs": [],
   "source": [
    "N = 1000\n",
    "x1 = np.random.normal(1, 1, N)\n",
    "x3 = np.random.normal(1 + 3.5 * x1, 1, N)\n",
    "x2 = np.random.normal(1 - 2.8 * x3, 3, N)\n",
    "\n",
    "data = np.vstack([x1, x2, x3]).T\n",
    "means = data.mean(axis=0)\n",
    "cov = np.cov(data.T)\n",
    "\n"
   ]
  },
  {
   "cell_type": "code",
   "execution_count": 2,
   "metadata": {},
   "outputs": [
    {
     "name": "stderr",
     "output_type": "stream",
     "text": [
      "/home/defucao/anaconda3/envs/deepsvg/lib/python3.7/site-packages/sklearn/linear_model/least_angle.py:30: DeprecationWarning: `np.float` is a deprecated alias for the builtin `float`. To silence this warning, use `float` by itself. Doing this will not modify any behavior and is safe. If you specifically wanted the numpy scalar type, use `np.float64` here.\n",
      "Deprecated in NumPy 1.20; for more details and guidance: https://numpy.org/devdocs/release/1.20.0-notes.html#deprecations\n",
      "  method='lar', copy_X=True, eps=np.finfo(np.float).eps,\n",
      "/home/defucao/anaconda3/envs/deepsvg/lib/python3.7/site-packages/sklearn/linear_model/least_angle.py:167: DeprecationWarning: `np.float` is a deprecated alias for the builtin `float`. To silence this warning, use `float` by itself. Doing this will not modify any behavior and is safe. If you specifically wanted the numpy scalar type, use `np.float64` here.\n",
      "Deprecated in NumPy 1.20; for more details and guidance: https://numpy.org/devdocs/release/1.20.0-notes.html#deprecations\n",
      "  method='lar', copy_X=True, eps=np.finfo(np.float).eps,\n",
      "/home/defucao/anaconda3/envs/deepsvg/lib/python3.7/site-packages/sklearn/linear_model/least_angle.py:284: DeprecationWarning: `np.float` is a deprecated alias for the builtin `float`. To silence this warning, use `float` by itself. Doing this will not modify any behavior and is safe. If you specifically wanted the numpy scalar type, use `np.float64` here.\n",
      "Deprecated in NumPy 1.20; for more details and guidance: https://numpy.org/devdocs/release/1.20.0-notes.html#deprecations\n",
      "  eps=np.finfo(np.float).eps, copy_Gram=True, verbose=0,\n",
      "/home/defucao/anaconda3/envs/deepsvg/lib/python3.7/site-packages/sklearn/linear_model/least_angle.py:862: DeprecationWarning: `np.float` is a deprecated alias for the builtin `float`. To silence this warning, use `float` by itself. Doing this will not modify any behavior and is safe. If you specifically wanted the numpy scalar type, use `np.float64` here.\n",
      "Deprecated in NumPy 1.20; for more details and guidance: https://numpy.org/devdocs/release/1.20.0-notes.html#deprecations\n",
      "  eps=np.finfo(np.float).eps, copy_X=True, fit_path=True,\n",
      "/home/defucao/anaconda3/envs/deepsvg/lib/python3.7/site-packages/sklearn/linear_model/least_angle.py:1101: DeprecationWarning: `np.float` is a deprecated alias for the builtin `float`. To silence this warning, use `float` by itself. Doing this will not modify any behavior and is safe. If you specifically wanted the numpy scalar type, use `np.float64` here.\n",
      "Deprecated in NumPy 1.20; for more details and guidance: https://numpy.org/devdocs/release/1.20.0-notes.html#deprecations\n",
      "  eps=np.finfo(np.float).eps, copy_X=True, fit_path=True,\n",
      "/home/defucao/anaconda3/envs/deepsvg/lib/python3.7/site-packages/sklearn/linear_model/least_angle.py:1127: DeprecationWarning: `np.float` is a deprecated alias for the builtin `float`. To silence this warning, use `float` by itself. Doing this will not modify any behavior and is safe. If you specifically wanted the numpy scalar type, use `np.float64` here.\n",
      "Deprecated in NumPy 1.20; for more details and guidance: https://numpy.org/devdocs/release/1.20.0-notes.html#deprecations\n",
      "  eps=np.finfo(np.float).eps, positive=False):\n",
      "/home/defucao/anaconda3/envs/deepsvg/lib/python3.7/site-packages/sklearn/linear_model/least_angle.py:1362: DeprecationWarning: `np.float` is a deprecated alias for the builtin `float`. To silence this warning, use `float` by itself. Doing this will not modify any behavior and is safe. If you specifically wanted the numpy scalar type, use `np.float64` here.\n",
      "Deprecated in NumPy 1.20; for more details and guidance: https://numpy.org/devdocs/release/1.20.0-notes.html#deprecations\n",
      "  max_n_alphas=1000, n_jobs=None, eps=np.finfo(np.float).eps,\n",
      "/home/defucao/anaconda3/envs/deepsvg/lib/python3.7/site-packages/sklearn/linear_model/least_angle.py:1602: DeprecationWarning: `np.float` is a deprecated alias for the builtin `float`. To silence this warning, use `float` by itself. Doing this will not modify any behavior and is safe. If you specifically wanted the numpy scalar type, use `np.float64` here.\n",
      "Deprecated in NumPy 1.20; for more details and guidance: https://numpy.org/devdocs/release/1.20.0-notes.html#deprecations\n",
      "  max_n_alphas=1000, n_jobs=None, eps=np.finfo(np.float).eps,\n",
      "/home/defucao/anaconda3/envs/deepsvg/lib/python3.7/site-packages/sklearn/linear_model/least_angle.py:1738: DeprecationWarning: `np.float` is a deprecated alias for the builtin `float`. To silence this warning, use `float` by itself. Doing this will not modify any behavior and is safe. If you specifically wanted the numpy scalar type, use `np.float64` here.\n",
      "Deprecated in NumPy 1.20; for more details and guidance: https://numpy.org/devdocs/release/1.20.0-notes.html#deprecations\n",
      "  eps=np.finfo(np.float).eps, copy_X=True, positive=False):\n",
      "/home/defucao/anaconda3/envs/deepsvg/lib/python3.7/site-packages/sklearn/decomposition/online_lda.py:29: DeprecationWarning: `np.float` is a deprecated alias for the builtin `float`. To silence this warning, use `float` by itself. Doing this will not modify any behavior and is safe. If you specifically wanted the numpy scalar type, use `np.float64` here.\n",
      "Deprecated in NumPy 1.20; for more details and guidance: https://numpy.org/devdocs/release/1.20.0-notes.html#deprecations\n",
      "  EPS = np.finfo(np.float).eps\n"
     ]
    }
   ],
   "source": [
    "from CMI_estimation import CMINE_lib as CMINE\n",
    "dataset = CMINE.create_dataset(GenModel='Gaussian_nonZero', Params=(10,1,5), Dim=5, N=80000)"
   ]
  },
  {
   "cell_type": "code",
   "execution_count": 12,
   "metadata": {},
   "outputs": [],
   "source": [
    "data = []\n",
    "for i in range(len(dataset)):\n",
    "    data.append(dataset[i].mean(axis=1))\n",
    "\n",
    "data = np.array(data).T"
   ]
  },
  {
   "cell_type": "code",
   "execution_count": 19,
   "metadata": {},
   "outputs": [
    {
     "data": {
      "text/plain": [
       "(80000, 3)"
      ]
     },
     "execution_count": 19,
     "metadata": {},
     "output_type": "execute_result"
    }
   ],
   "source": [
    "data.shape"
   ]
  },
  {
   "cell_type": "code",
   "execution_count": 20,
   "metadata": {},
   "outputs": [
    {
     "name": "stderr",
     "output_type": "stream",
     "text": [
      "/home/defucao/anaconda3/envs/deepsvg/lib/python3.7/site-packages/ipykernel_launcher.py:34: RuntimeWarning: divide by zero encountered in log\n",
      "/home/defucao/anaconda3/envs/deepsvg/lib/python3.7/site-packages/ipykernel_launcher.py:34: RuntimeWarning: invalid value encountered in double_scalars\n"
     ]
    },
    {
     "name": "stdout",
     "output_type": "stream",
     "text": [
      "nan\n"
     ]
    }
   ],
   "source": [
    "#data = np.vstack([x1, x2, x3]).T\n",
    "means = data.mean(axis=0)\n",
    "cov = np.cov(data.T)\n",
    "print(Data(data, means, cov).get_cmi())"
   ]
  },
  {
   "cell_type": "code",
   "execution_count": 22,
   "metadata": {},
   "outputs": [
    {
     "name": "stdout",
     "output_type": "stream",
     "text": [
      "-3.2958368660043287\n"
     ]
    }
   ],
   "source": [
    "print(conditional_mutual_information(data[0],data[1],data[2]))"
   ]
  },
  {
   "cell_type": "code",
   "execution_count": 24,
   "metadata": {},
   "outputs": [
    {
     "ename": "LinAlgError",
     "evalue": "singular matrix",
     "output_type": "error",
     "traceback": [
      "\u001b[0;31m---------------------------------------------------------------------------\u001b[0m",
      "\u001b[0;31mLinAlgError\u001b[0m                               Traceback (most recent call last)",
      "\u001b[0;32m/tmp/ipykernel_25626/2397374084.py\u001b[0m in \u001b[0;36m<module>\u001b[0;34m\u001b[0m\n\u001b[0;32m----> 1\u001b[0;31m \u001b[0mprint\u001b[0m\u001b[0;34m(\u001b[0m\u001b[0mgaussian_conditional_mutual_info\u001b[0m\u001b[0;34m(\u001b[0m\u001b[0mdata\u001b[0m\u001b[0;34m[\u001b[0m\u001b[0;36m0\u001b[0m\u001b[0;34m]\u001b[0m\u001b[0;34m,\u001b[0m\u001b[0mdata\u001b[0m\u001b[0;34m[\u001b[0m\u001b[0;36m1\u001b[0m\u001b[0;34m]\u001b[0m\u001b[0;34m,\u001b[0m\u001b[0mdata\u001b[0m\u001b[0;34m[\u001b[0m\u001b[0;36m2\u001b[0m\u001b[0;34m]\u001b[0m\u001b[0;34m)\u001b[0m\u001b[0;34m)\u001b[0m\u001b[0;34m\u001b[0m\u001b[0;34m\u001b[0m\u001b[0m\n\u001b[0m",
      "\u001b[0;32m/tmp/ipykernel_25626/3008755933.py\u001b[0m in \u001b[0;36mgaussian_conditional_mutual_info\u001b[0;34m(x, y, z)\u001b[0m\n\u001b[1;32m     25\u001b[0m \u001b[0;34m\u001b[0m\u001b[0m\n\u001b[1;32m     26\u001b[0m     \u001b[0;31m# Calculate the joint entropy of x and y given z\u001b[0m\u001b[0;34m\u001b[0m\u001b[0;34m\u001b[0m\u001b[0;34m\u001b[0m\u001b[0m\n\u001b[0;32m---> 27\u001b[0;31m     \u001b[0mmvn_xyz\u001b[0m \u001b[0;34m=\u001b[0m \u001b[0mmultivariate_normal\u001b[0m\u001b[0;34m(\u001b[0m\u001b[0mnp\u001b[0m\u001b[0;34m.\u001b[0m\u001b[0mmean\u001b[0m\u001b[0;34m(\u001b[0m\u001b[0mxyz\u001b[0m\u001b[0;34m,\u001b[0m \u001b[0maxis\u001b[0m\u001b[0;34m=\u001b[0m\u001b[0;36m0\u001b[0m\u001b[0;34m)\u001b[0m\u001b[0;34m,\u001b[0m \u001b[0mcov_xyz\u001b[0m\u001b[0;34m)\u001b[0m\u001b[0;34m\u001b[0m\u001b[0;34m\u001b[0m\u001b[0m\n\u001b[0m\u001b[1;32m     28\u001b[0m     \u001b[0mentropy_xy_given_z\u001b[0m \u001b[0;34m=\u001b[0m \u001b[0mmvn_xyz\u001b[0m\u001b[0;34m.\u001b[0m\u001b[0mentropy\u001b[0m\u001b[0;34m(\u001b[0m\u001b[0;34m)\u001b[0m\u001b[0;34m\u001b[0m\u001b[0;34m\u001b[0m\u001b[0m\n\u001b[1;32m     29\u001b[0m \u001b[0;34m\u001b[0m\u001b[0m\n",
      "\u001b[0;32m~/anaconda3/envs/deepsvg/lib/python3.7/site-packages/scipy/stats/_multivariate.py\u001b[0m in \u001b[0;36m__call__\u001b[0;34m(self, mean, cov, allow_singular, seed)\u001b[0m\n\u001b[1;32m    356\u001b[0m         return multivariate_normal_frozen(mean, cov,\n\u001b[1;32m    357\u001b[0m                                           \u001b[0mallow_singular\u001b[0m\u001b[0;34m=\u001b[0m\u001b[0mallow_singular\u001b[0m\u001b[0;34m,\u001b[0m\u001b[0;34m\u001b[0m\u001b[0;34m\u001b[0m\u001b[0m\n\u001b[0;32m--> 358\u001b[0;31m                                           seed=seed)\n\u001b[0m\u001b[1;32m    359\u001b[0m \u001b[0;34m\u001b[0m\u001b[0m\n\u001b[1;32m    360\u001b[0m     \u001b[0;32mdef\u001b[0m \u001b[0m_process_parameters\u001b[0m\u001b[0;34m(\u001b[0m\u001b[0mself\u001b[0m\u001b[0;34m,\u001b[0m \u001b[0mdim\u001b[0m\u001b[0;34m,\u001b[0m \u001b[0mmean\u001b[0m\u001b[0;34m,\u001b[0m \u001b[0mcov\u001b[0m\u001b[0;34m)\u001b[0m\u001b[0;34m:\u001b[0m\u001b[0;34m\u001b[0m\u001b[0;34m\u001b[0m\u001b[0m\n",
      "\u001b[0;32m~/anaconda3/envs/deepsvg/lib/python3.7/site-packages/scipy/stats/_multivariate.py\u001b[0m in \u001b[0;36m__init__\u001b[0;34m(self, mean, cov, allow_singular, seed, maxpts, abseps, releps)\u001b[0m\n\u001b[1;32m    726\u001b[0m         self.dim, self.mean, self.cov = self._dist._process_parameters(\n\u001b[1;32m    727\u001b[0m                                                             None, mean, cov)\n\u001b[0;32m--> 728\u001b[0;31m         \u001b[0mself\u001b[0m\u001b[0;34m.\u001b[0m\u001b[0mcov_info\u001b[0m \u001b[0;34m=\u001b[0m \u001b[0m_PSD\u001b[0m\u001b[0;34m(\u001b[0m\u001b[0mself\u001b[0m\u001b[0;34m.\u001b[0m\u001b[0mcov\u001b[0m\u001b[0;34m,\u001b[0m \u001b[0mallow_singular\u001b[0m\u001b[0;34m=\u001b[0m\u001b[0mallow_singular\u001b[0m\u001b[0;34m)\u001b[0m\u001b[0;34m\u001b[0m\u001b[0;34m\u001b[0m\u001b[0m\n\u001b[0m\u001b[1;32m    729\u001b[0m         \u001b[0;32mif\u001b[0m \u001b[0;32mnot\u001b[0m \u001b[0mmaxpts\u001b[0m\u001b[0;34m:\u001b[0m\u001b[0;34m\u001b[0m\u001b[0;34m\u001b[0m\u001b[0m\n\u001b[1;32m    730\u001b[0m             \u001b[0mmaxpts\u001b[0m \u001b[0;34m=\u001b[0m \u001b[0;36m1000000\u001b[0m \u001b[0;34m*\u001b[0m \u001b[0mself\u001b[0m\u001b[0;34m.\u001b[0m\u001b[0mdim\u001b[0m\u001b[0;34m\u001b[0m\u001b[0;34m\u001b[0m\u001b[0m\n",
      "\u001b[0;32m~/anaconda3/envs/deepsvg/lib/python3.7/site-packages/scipy/stats/_multivariate.py\u001b[0m in \u001b[0;36m__init__\u001b[0;34m(self, M, cond, rcond, lower, check_finite, allow_singular)\u001b[0m\n\u001b[1;32m    157\u001b[0m         \u001b[0md\u001b[0m \u001b[0;34m=\u001b[0m \u001b[0ms\u001b[0m\u001b[0;34m[\u001b[0m\u001b[0ms\u001b[0m \u001b[0;34m>\u001b[0m \u001b[0meps\u001b[0m\u001b[0;34m]\u001b[0m\u001b[0;34m\u001b[0m\u001b[0;34m\u001b[0m\u001b[0m\n\u001b[1;32m    158\u001b[0m         \u001b[0;32mif\u001b[0m \u001b[0mlen\u001b[0m\u001b[0;34m(\u001b[0m\u001b[0md\u001b[0m\u001b[0;34m)\u001b[0m \u001b[0;34m<\u001b[0m \u001b[0mlen\u001b[0m\u001b[0;34m(\u001b[0m\u001b[0ms\u001b[0m\u001b[0;34m)\u001b[0m \u001b[0;32mand\u001b[0m \u001b[0;32mnot\u001b[0m \u001b[0mallow_singular\u001b[0m\u001b[0;34m:\u001b[0m\u001b[0;34m\u001b[0m\u001b[0;34m\u001b[0m\u001b[0m\n\u001b[0;32m--> 159\u001b[0;31m             \u001b[0;32mraise\u001b[0m \u001b[0mnp\u001b[0m\u001b[0;34m.\u001b[0m\u001b[0mlinalg\u001b[0m\u001b[0;34m.\u001b[0m\u001b[0mLinAlgError\u001b[0m\u001b[0;34m(\u001b[0m\u001b[0;34m'singular matrix'\u001b[0m\u001b[0;34m)\u001b[0m\u001b[0;34m\u001b[0m\u001b[0;34m\u001b[0m\u001b[0m\n\u001b[0m\u001b[1;32m    160\u001b[0m         \u001b[0ms_pinv\u001b[0m \u001b[0;34m=\u001b[0m \u001b[0m_pinv_1d\u001b[0m\u001b[0;34m(\u001b[0m\u001b[0ms\u001b[0m\u001b[0;34m,\u001b[0m \u001b[0meps\u001b[0m\u001b[0;34m)\u001b[0m\u001b[0;34m\u001b[0m\u001b[0;34m\u001b[0m\u001b[0m\n\u001b[1;32m    161\u001b[0m         \u001b[0mU\u001b[0m \u001b[0;34m=\u001b[0m \u001b[0mnp\u001b[0m\u001b[0;34m.\u001b[0m\u001b[0mmultiply\u001b[0m\u001b[0;34m(\u001b[0m\u001b[0mu\u001b[0m\u001b[0;34m,\u001b[0m \u001b[0mnp\u001b[0m\u001b[0;34m.\u001b[0m\u001b[0msqrt\u001b[0m\u001b[0;34m(\u001b[0m\u001b[0ms_pinv\u001b[0m\u001b[0;34m)\u001b[0m\u001b[0;34m)\u001b[0m\u001b[0;34m\u001b[0m\u001b[0;34m\u001b[0m\u001b[0m\n",
      "\u001b[0;31mLinAlgError\u001b[0m: singular matrix"
     ]
    }
   ],
   "source": [
    "print(gaussian_conditional_mutual_info(data[0],data[1],data[2]))"
   ]
  },
  {
   "cell_type": "code",
   "execution_count": 14,
   "metadata": {},
   "outputs": [
    {
     "name": "stdout",
     "output_type": "stream",
     "text": [
      "Gaussian Conditional Mutual Information: 4.605170185988092\n"
     ]
    },
    {
     "name": "stderr",
     "output_type": "stream",
     "text": [
      "/home/defucao/anaconda3/envs/deepsvg/lib/python3.7/site-packages/sklearn/feature_extraction/image.py:167: DeprecationWarning: `np.int` is a deprecated alias for the builtin `int`. To silence this warning, use `int` by itself. Doing this will not modify any behavior and is safe. When replacing `np.int`, you may wish to use e.g. `np.int64` or `np.int32` to specify the precision. If you wish to review your current use, check the release note link for additional information.\n",
      "Deprecated in NumPy 1.20; for more details and guidance: https://numpy.org/devdocs/release/1.20.0-notes.html#deprecations\n",
      "  dtype=np.int):\n",
      "/home/defucao/anaconda3/envs/deepsvg/lib/python3.7/site-packages/sklearn/metrics/cluster/supervised.py:123: DeprecationWarning: `np.int` is a deprecated alias for the builtin `int`. To silence this warning, use `int` by itself. Doing this will not modify any behavior and is safe. When replacing `np.int`, you may wish to use e.g. `np.int64` or `np.int32` to specify the precision. If you wish to review your current use, check the release note link for additional information.\n",
      "Deprecated in NumPy 1.20; for more details and guidance: https://numpy.org/devdocs/release/1.20.0-notes.html#deprecations\n",
      "  dtype=np.int)\n"
     ]
    }
   ],
   "source": [
    "from sklearn.feature_selection import mutual_info_regression\n",
    "from sklearn.metrics import mutual_info_score\n",
    "from sklearn.datasets import make_regression\n",
    "import numpy as np\n",
    "\n",
    "# Generate sample data with 3 features and 1 target variable\n",
    "X, y = make_regression(n_samples=100, n_features=3, n_informative=2, random_state=42)\n",
    "\n",
    "# Calculate mutual information between each feature and the target variable\n",
    "mi = mutual_info_regression(X, y)\n",
    "\n",
    "# Sort features by mutual information scores\n",
    "sorted_idx = np.argsort(mi)[::-1]\n",
    "\n",
    "# Select top 2 features with highest mutual information scores\n",
    "X_selected = X[:, sorted_idx[:2]]\n",
    "\n",
    "# Calculate Gaussian Conditional Mutual Information between the 2 selected features\n",
    "gcmi = mutual_info_score(X_selected[:, 0], X_selected[:, 1])\n",
    "\n",
    "print(\"Gaussian Conditional Mutual Information:\", gcmi)\n"
   ]
  },
  {
   "cell_type": "code",
   "execution_count": 15,
   "metadata": {},
   "outputs": [
    {
     "data": {
      "text/plain": [
       "(100, 3)"
      ]
     },
     "execution_count": 15,
     "metadata": {},
     "output_type": "execute_result"
    }
   ],
   "source": [
    "X.shape"
   ]
  },
  {
   "cell_type": "code",
   "execution_count": 17,
   "metadata": {},
   "outputs": [
    {
     "data": {
      "text/plain": [
       "(100,)"
      ]
     },
     "execution_count": 17,
     "metadata": {},
     "output_type": "execute_result"
    }
   ],
   "source": [
    "y.shape"
   ]
  },
  {
   "cell_type": "code",
   "execution_count": 18,
   "metadata": {},
   "outputs": [
    {
     "data": {
      "text/plain": [
       "array([0.06029122, 0.47274624, 0.27362509])"
      ]
     },
     "execution_count": 18,
     "metadata": {},
     "output_type": "execute_result"
    }
   ],
   "source": [
    "mi"
   ]
  },
  {
   "cell_type": "code",
   "execution_count": 3,
   "metadata": {},
   "outputs": [],
   "source": [
    "import numpy as np\n",
    "from scipy import stats\n",
    "\n",
    "def conditional_mutual_information(x, y, z):\n",
    "    \"\"\"\n",
    "    Computes the conditional mutual information I(x,y|z) for three random variables x, y, and z.\n",
    "    x, y, z: numpy arrays of shape (n,) containing the values of the random variables.\n",
    "    \"\"\"\n",
    "    # Compute the joint probabilities\n",
    "    p_xyz, _ = np.histogramdd((x, y, z), bins=10)\n",
    "    p_xyz /= np.sum(p_xyz)\n",
    "    \n",
    "    # Compute the marginal probabilities\n",
    "    p_xz = np.sum(p_xyz, axis=1)\n",
    "    p_yz = np.sum(p_xyz, axis=0)\n",
    "    p_z = np.sum(p_xyz)\n",
    "    \n",
    "    # Compute the conditional probabilities\n",
    "    p_x_given_z = p_xz / p_z\n",
    "    p_y_given_z = p_yz / p_z\n",
    "    \n",
    "    # Compute the mutual information\n",
    "    mi = stats.entropy(p_xyz.flatten())\n",
    "    mi -= stats.entropy(p_xz.flatten())\n",
    "    mi -= stats.entropy(p_yz.flatten())\n",
    "    \n",
    "    # Compute the conditional mutual information\n",
    "    cmi = mi - stats.entropy(p_x_given_z.flatten()) - stats.entropy(p_y_given_z.flatten())\n",
    "    \n",
    "    return cmi"
   ]
  },
  {
   "cell_type": "code",
   "execution_count": 4,
   "metadata": {},
   "outputs": [],
   "source": [
    "import numpy as np\n",
    "from scipy.stats import multivariate_normal\n",
    "\n",
    "def gaussian_conditional_mutual_info(x, y, z):\n",
    "    \"\"\"\n",
    "    Calculates the Gaussian conditional mutual information between two variables x and y given a third variable z.\n",
    "    \"\"\"\n",
    "    n = len(x)\n",
    "    xyz = np.column_stack((x, y, z))\n",
    "    cov_xyz = np.cov(xyz, rowvar=False)\n",
    "    cov_xz = cov_xyz[:2, :2]\n",
    "    cov_yz = cov_xyz[1:, 1:]\n",
    "    cov_z = cov_xyz[2:, 2:]\n",
    "    inv_cov_z = np.linalg.inv(cov_z)\n",
    "    \n",
    "    # Calculate the entropy of x given z\n",
    "    mean_xz = np.mean(xyz[:, :2], axis=0)\n",
    "    mvn_xz = multivariate_normal(mean_xz, cov_xz)\n",
    "    entropy_x_given_z = mvn_xz.entropy()\n",
    "    \n",
    "    # Calculate the entropy of y given z\n",
    "    mean_yz = np.mean(xyz[:, 1:], axis=0)\n",
    "    mvn_yz = multivariate_normal(mean_yz, cov_yz)\n",
    "    entropy_y_given_z = mvn_yz.entropy()\n",
    "    \n",
    "    # Calculate the joint entropy of x and y given z\n",
    "    mvn_xyz = multivariate_normal(np.mean(xyz, axis=0), cov_xyz)\n",
    "    entropy_xy_given_z = mvn_xyz.entropy()\n",
    "    \n",
    "    # Calculate the conditional mutual information\n",
    "    mi_xy_given_z = entropy_x_given_z + entropy_y_given_z - entropy_xy_given_z\n",
    "    return mi_xy_given_z"
   ]
  },
  {
   "cell_type": "code",
   "execution_count": 5,
   "metadata": {},
   "outputs": [],
   "source": [
    "import numpy as np\n",
    "from sklearn.neighbors import KernelDensity\n",
    "\n",
    "def gaussian_conditional_mutual_info_highdim(x, y, z, bandwidth=1.0, kernel='gaussian'):\n",
    "    \"\"\"\n",
    "    Calculates the Gaussian conditional mutual information between two high-dimensional variables x and y given a third variable z.\n",
    "    \"\"\"\n",
    "    n = len(x)\n",
    "    xyz = np.column_stack((x, y, z))\n",
    "    \n",
    "    # Fit kernel density estimators\n",
    "    kde_xz = KernelDensity(bandwidth=bandwidth, kernel=kernel).fit(xyz[:, :2])\n",
    "    kde_yz = KernelDensity(bandwidth=bandwidth, kernel=kernel).fit(xyz[:, 1:])\n",
    "    kde_xyz = KernelDensity(bandwidth=bandwidth, kernel=kernel).fit(xyz)\n",
    "    \n",
    "    # Calculate the entropy of x given z\n",
    "    log_density_xz = kde_xz.score_samples(xyz[:, :2])\n",
    "    entropy_x_given_z = -np.mean(log_density_xz)\n",
    "    \n",
    "    # Calculate the entropy of y given z\n",
    "    log_density_yz = kde_yz.score_samples(xyz[:, 1:])\n",
    "    entropy_y_given_z = -np.mean(log_density_yz)\n",
    "    \n",
    "    # Calculate the joint entropy of x and y given z\n",
    "    log_density_xyz = kde_xyz.score_samples(xyz)\n",
    "    entropy_xy_given_z = -np.mean(log_density_xyz)\n",
    "    \n",
    "    # Calculate the conditional mutual information\n",
    "    mi_xy_given_z = entropy_x_given_z + entropy_y_given_z - entropy_xy_given_z\n",
    "    return mi_xy_given_z"
   ]
  },
  {
   "cell_type": "code",
   "execution_count": 6,
   "metadata": {},
   "outputs": [],
   "source": [
    "#I(X;Y|Z) = H(X|Z) + H(Y|Z) - H(X,Y|Z)"
   ]
  },
  {
   "cell_type": "code",
   "execution_count": 7,
   "metadata": {},
   "outputs": [
    {
     "data": {
      "text/plain": [
       "6.515766454232065"
      ]
     },
     "execution_count": 7,
     "metadata": {},
     "output_type": "execute_result"
    }
   ],
   "source": [
    "gaussian_conditional_mutual_info_highdim(dataset[0],dataset[1], dataset[2])"
   ]
  },
  {
   "cell_type": "code",
   "execution_count": null,
   "metadata": {},
   "outputs": [],
   "source": []
  }
 ],
 "metadata": {
  "kernelspec": {
   "display_name": "adrnn",
   "language": "python",
   "name": "python3"
  },
  "language_info": {
   "codemirror_mode": {
    "name": "ipython",
    "version": 3
   },
   "file_extension": ".py",
   "mimetype": "text/x-python",
   "name": "python",
   "nbconvert_exporter": "python",
   "pygments_lexer": "ipython3",
   "version": "3.7.11"
  },
  "orig_nbformat": 4
 },
 "nbformat": 4,
 "nbformat_minor": 2
}
