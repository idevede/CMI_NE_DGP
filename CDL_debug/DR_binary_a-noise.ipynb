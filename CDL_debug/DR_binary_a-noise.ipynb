{
 "cells": [
  {
   "cell_type": "code",
   "execution_count": 1,
   "metadata": {},
   "outputs": [],
   "source": [
    "# %%\n",
    "import time\n",
    "import numpy as np\n",
    "import pickle\n",
    "from numpy.linalg import det\n",
    "\n",
    "import CMINE_lib as CMINE\n",
    "# from Guassian_variables import Data_guassian\n",
    "from structurerl import * \n",
    "\n",
    "import pandas as pd\n",
    "from scipy.stats import multivariate_normal\n",
    "import itertools\n",
    "\n",
    "np.random.seed(37)\n",
    "from scipy import stats\n",
    "from sklearn.neighbors import KernelDensity\n",
    "\n",
    "import math\n",
    "\n",
    "import torch \n",
    "import torch.nn as nn\n",
    "import torch.nn.functional as F\n",
    "\n",
    "import os\n",
    "os.environ['CUDA_VISIBLE_DEVICES'] = '2'\n"
   ]
  },
  {
   "cell_type": "code",
   "execution_count": 2,
   "metadata": {},
   "outputs": [],
   "source": [
    "def log_sum_exp(value, dim=None, keepdim=False):\n",
    "    \"\"\"Numerically stable implementation of the operation\n",
    "    value.exp().sum(dim, keepdim).log()\n",
    "    \"\"\"\n",
    "    # TODO: torch.max(value, dim=None) threw an error at time of writing\n",
    "    if dim is not None:\n",
    "        m, _ = torch.max(value, dim=dim, keepdim=True)\n",
    "        value0 = value - m\n",
    "        if keepdim is False:\n",
    "            m = m.squeeze(dim)\n",
    "        return m + torch.log(torch.sum(torch.exp(value0),\n",
    "                                       dim=dim, keepdim=keepdim))\n",
    "    else:\n",
    "        m = torch.max(value)\n",
    "        sum_exp = torch.sum(torch.exp(value - m))\n",
    "        if isinstance(sum_exp, Number):\n",
    "            return m + math.log(sum_exp)\n",
    "        else:\n",
    "            return m + torch.log(sum_exp)"
   ]
  },
  {
   "cell_type": "code",
   "execution_count": 3,
   "metadata": {},
   "outputs": [],
   "source": [
    "torch.backends.cudnn.enabled = True\n",
    "torch.backends.cudnn.benchmark = True"
   ]
  },
  {
   "cell_type": "code",
   "execution_count": 4,
   "metadata": {},
   "outputs": [],
   "source": [
    "from modules.CMI import DR_CMI, CDL_CMI"
   ]
  },
  {
   "cell_type": "code",
   "execution_count": 5,
   "metadata": {},
   "outputs": [],
   "source": [
    "Dim = 5\n",
    "batch_size = 64\n",
    "#dataset = CMINE.create_dataset_DGP( Dim=5, N=batch_size)\n",
    "dataset = create_dataset_DGP_binary_A_conf( Dim=5, N=batch_size)\n",
    "s_t = torch.from_numpy(dataset[0]).float().cuda()\n",
    "s_next = torch.from_numpy(dataset[1]).float().cuda()\n",
    "a = torch.from_numpy(dataset[2]).float().cuda()"
   ]
  },
  {
   "cell_type": "code",
   "execution_count": 6,
   "metadata": {},
   "outputs": [],
   "source": [
    "sample_dim = 2*Dim\n",
    "\n",
    "hidden_size = 15\n",
    "learning_rate = 0.005\n",
    "training_steps = 10\n",
    "\n",
    "cubic = False \n"
   ]
  },
  {
   "cell_type": "code",
   "execution_count": 7,
   "metadata": {},
   "outputs": [],
   "source": [
    "def train_dr(N = 64, training_steps = 10, noise = 0.1):\n",
    "    torch.cuda.empty_cache()\n",
    "    model_dr = DR_CMI(sample_dim + 1, sample_dim, hidden_size).cuda()\n",
    "    optimizer_dr = torch.optim.Adam(model_dr.parameters(), learning_rate)\n",
    "    dr_est_values = []\n",
    "    for step in range(training_steps):\n",
    "        #batch_x, batch_y = sample_correlated_gaussian(rho, dim=sample_dim, batch_size = batch_size, to_cuda = True, cubic = cubic)\n",
    "        #dataset = create_dataset_DGP_binary_A_conf(Dim=Dim, N=N)\n",
    "        dataset = create_dataset_DGP_binary_A_more_noise(Dim=Dim, N=N, noise = noise)\n",
    "        #dataset = create_dataset_DGP_binary_A(Dim=Dim, N=N)\n",
    "        s_t = torch.from_numpy(dataset[0]).float().cuda()\n",
    "        s_next = torch.from_numpy(dataset[1]).float().cuda()\n",
    "        a = torch.from_numpy(dataset[2]).float().cuda()\n",
    "        #print(a)\n",
    "\n",
    "        batch_x = torch.cat([s_t,a], dim=1)\n",
    "        batch_y = s_next\n",
    "        model_dr.eval()\n",
    "        drs = model_dr(batch_x, batch_y)\n",
    "        #mi_est_values.append(cmi)\n",
    "        dr_est_values.append(drs)\n",
    "        model_dr.train() \n",
    "\n",
    "        model_loss = model_dr.learning_loss(batch_x, batch_y)\n",
    "\n",
    "        optimizer_dr.zero_grad()\n",
    "        model_loss.backward(retain_graph=True)\n",
    "        optimizer_dr.step()\n",
    "\n",
    "        del batch_x, batch_y\n",
    "        torch.cuda.empty_cache()\n",
    "    return dr_est_values"
   ]
  },
  {
   "cell_type": "code",
   "execution_count": 8,
   "metadata": {},
   "outputs": [],
   "source": [
    "def train_cdl(N = 64, training_steps = 10, noise = 0.1):\n",
    "    torch.cuda.empty_cache()\n",
    "    model_cdl = CDL_CMI(sample_dim + 1, sample_dim, hidden_size).cuda()\n",
    "    optimizer_cdl = torch.optim.Adam(model_cdl.parameters(), learning_rate)\n",
    "    cdl_est_values = []\n",
    "    for step in range(training_steps):\n",
    "        #batch_x, batch_y = sample_correlated_gaussian(rho, dim=sample_dim, batch_size = batch_size, to_cuda = True, cubic = cubic)\n",
    "        #dataset = create_dataset_DGP_binary_A_conf(Dim=Dim, N=64)\n",
    "        dataset = create_dataset_DGP_binary_A_more_noise(Dim=Dim, N=N, noise = noise)\n",
    "        #dataset = create_dataset_DGP_binary_A(Dim=Dim, N=64)\n",
    "        s_t = torch.from_numpy(dataset[0]).float().cuda()\n",
    "        s_next = torch.from_numpy(dataset[1]).float().cuda()\n",
    "        a = torch.from_numpy(dataset[2]).float().cuda()\n",
    "\n",
    "        batch_x = torch.cat([s_t,a], dim=1)\n",
    "        batch_y = s_next\n",
    "        model_cdl.eval()\n",
    "        cdl_cmi = model_cdl(batch_x, batch_y)\n",
    "        cdl_est_values.append(cdl_cmi)\n",
    "        model_cdl.train() \n",
    "\n",
    "        model_loss = model_cdl.learning_loss(batch_x, batch_y)\n",
    "\n",
    "        optimizer_cdl.zero_grad()\n",
    "        model_loss.backward(retain_graph=True)\n",
    "        optimizer_cdl.step()\n",
    "\n",
    "        del batch_x, batch_y\n",
    "        torch.cuda.empty_cache()\n",
    "    return cdl_est_values"
   ]
  },
  {
   "cell_type": "code",
   "execution_count": 9,
   "metadata": {},
   "outputs": [
    {
     "name": "stdout",
     "output_type": "stream",
     "text": [
      "[5.08203380e+03 5.07689674e+03 5.07596928e+03 5.07691093e+03\n",
      " 5.07763493e+03 5.20894909e+07 2.49430462e+14 2.66375671e+08\n",
      " 2.91236501e+07 3.24908658e+07]\n",
      "[5.41008848e+03 5.28923849e+03 4.03628418e+05 5.12845097e+03\n",
      " 5.51013351e+05 1.49308878e+08 2.57488784e+09 1.21480156e+06\n",
      " 2.73027260e+11 2.84857181e+06]\n"
     ]
    }
   ],
   "source": [
    "N = 8\n",
    "cdl_est_values = train_cdl(N, 100)\n",
    "dr_est_values = train_dr(N, 100)\n",
    "print(np.array(cdl_est_values).mean(axis=0))\n",
    "print(np.array(dr_est_values).mean(axis=0))"
   ]
  },
  {
   "cell_type": "code",
   "execution_count": 10,
   "metadata": {},
   "outputs": [
    {
     "name": "stdout",
     "output_type": "stream",
     "text": [
      "[ 0.25160089 20.90705369 41.72471771  0.22760719  0.66024089  0.56176038\n",
      "  1.67688251  5.35747147  0.70878812  2.89557232]\n",
      "[1.02449280e+00 6.80109338e-01 8.48897291e-01 1.01883583e+00\n",
      " 1.62740350e+02 1.33371779e+02 9.96202892e+01 9.51680172e+01\n",
      " 6.79234699e+01 1.55864088e+04]\n"
     ]
    }
   ],
   "source": [
    "N = 16\n",
    "cdl_est_values = train_cdl(N, 10)\n",
    "dr_est_values = train_dr(N, 10)\n",
    "print(np.array(cdl_est_values).mean(axis=0))\n",
    "print(np.array(dr_est_values).mean(axis=0))"
   ]
  },
  {
   "cell_type": "code",
   "execution_count": 11,
   "metadata": {},
   "outputs": [
    {
     "name": "stdout",
     "output_type": "stream",
     "text": [
      "[4.70797213e-01 1.03628284e+00 2.52753370e-01 1.80713377e+01\n",
      " 3.27465548e-01 1.02087174e+01 1.39288551e+02 3.37460004e+01\n",
      " 6.44902174e+02 5.10537716e+00]\n",
      "[5.39571622e+03 5.83858509e+03 8.55009451e+03 5.26270402e+03\n",
      " 5.52547864e+03 1.18610010e+08 9.64424706e+08 5.50517226e+03\n",
      " 8.65865125e+05 7.54818882e+04]\n"
     ]
    }
   ],
   "source": [
    "N = 32\n",
    "cdl_est_values = train_cdl(N, 10)\n",
    "dr_est_values = train_dr(N, 10)\n",
    "print(np.array(cdl_est_values).mean(axis=0))\n",
    "print(np.array(dr_est_values).mean(axis=0))"
   ]
  },
  {
   "cell_type": "code",
   "execution_count": 17,
   "metadata": {},
   "outputs": [
    {
     "name": "stdout",
     "output_type": "stream",
     "text": [
      "[0.20533267 6.41830869 0.36476142 2.17412648 0.20718515 7.70160287\n",
      " 0.36651939 9.37775562 0.50441016 2.954366  ]\n",
      "[3.69959268e+02 6.12342524e+02 5.90525959e+02 6.95779578e+02\n",
      " 5.83077422e+02 1.96545525e+08 8.87359976e+02 1.33609852e+04\n",
      " 2.45061627e+05 9.25536269e+04]\n"
     ]
    }
   ],
   "source": [
    "N=64\n",
    "cdl_est_values = train_cdl(N, 10)\n",
    "dr_est_values = train_dr(N, 10)\n",
    "print(np.array(cdl_est_values).mean(axis=0))\n",
    "print(np.array(dr_est_values).mean(axis=0))"
   ]
  },
  {
   "cell_type": "code",
   "execution_count": 16,
   "metadata": {},
   "outputs": [
    {
     "name": "stdout",
     "output_type": "stream",
     "text": [
      "[0.67332595 0.07067285 0.06221422 0.05769692 0.05641404 0.22059119\n",
      " 0.31473258 0.43435641 0.49405592 0.14012249]\n",
      "[4.16078431e+01 1.06862337e+02 1.24928540e+02 1.00113302e+02\n",
      " 8.76377323e+01 3.94086891e+05 1.73749864e+09 1.10081746e+05\n",
      " 2.85273925e+04 2.87328206e+07]\n"
     ]
    }
   ],
   "source": [
    "N=128\n",
    "cdl_est_values = train_cdl(N, 10)\n",
    "dr_est_values = train_dr(N, 10)\n",
    "print(np.array(cdl_est_values).mean(axis=0))\n",
    "print(np.array(dr_est_values).mean(axis=0))"
   ]
  },
  {
   "cell_type": "markdown",
   "metadata": {},
   "source": [
    "# Add Noise"
   ]
  },
  {
   "cell_type": "code",
   "execution_count": 20,
   "metadata": {},
   "outputs": [
    {
     "name": "stdout",
     "output_type": "stream",
     "text": [
      "[1.50807499e+02 4.62607846e+00 4.17793512e+00 4.58887104e+00\n",
      " 5.30967041e+00 2.43819219e+05 2.32101256e+03 1.81911865e+04\n",
      " 5.60197254e+02 5.53280915e+02]\n",
      "[1.38506134e+12 2.51517883e+11 1.84226267e+05 3.20695053e+07\n",
      " 3.31736433e+06 4.06365373e+09 2.08861528e+07 2.03350160e+05\n",
      " 2.79993891e+08 2.25176659e+05]\n",
      "----------8----------\n",
      "[6.46139278e+06 6.46299686e+06 6.46146165e+06 6.46163432e+06\n",
      " 6.50703142e+06 1.85626803e+10 3.98990505e+15 3.55471859e+08\n",
      " 1.49689870e+09 1.91844620e+10]\n",
      "[4.23173144e+04 2.46368612e+02 5.52164237e+02 5.31464425e+02\n",
      " 3.09564114e+02 1.22811745e+08 5.11384563e+04 5.11401818e+04\n",
      " 5.38226931e+04 9.97454350e+05]\n",
      "----------16----------\n",
      "[2.00956854e+01 1.55605180e+01 6.28407089e+01 1.71832725e+01\n",
      " 1.37664207e+01 2.64652491e+07 9.95282069e+02 1.09864795e+03\n",
      " 1.37166580e+06 2.55753486e+02]\n",
      "[1.77034982e+03 2.41482696e+03 2.57785120e+04 2.39645013e+03\n",
      " 1.21346664e+06 1.29198787e+09 3.39466295e+05 1.15756326e+05\n",
      " 6.47215526e+08 3.21895300e+06]\n",
      "----------32----------\n",
      "[ 65.03286957   1.31410518 556.14417515  52.66378684  16.05398843\n",
      "   5.34228955 672.15785813  80.09384796 131.36301502  16.91826812]\n",
      "[1.80153209e+04 1.06525043e+06 1.54643909e+04 1.70721681e+04\n",
      " 1.41283765e+04 1.45953052e+11 1.29094626e+08 1.12671906e+12\n",
      " 2.31696707e+07 1.09133894e+12]\n",
      "----------64----------\n",
      "[1.44957259e+01 6.78933815e+05 2.76749489e+01 1.10323276e+02\n",
      " 1.04350497e+01 9.98216187e+06 1.49004902e+05 9.11419636e+04\n",
      " 9.42057367e+03 9.01555736e+07]\n",
      "[2.05976679e+03 5.22877318e+02 5.03838300e+02 5.49064578e+02\n",
      " 4.49758075e+02 2.11543363e+09 1.87592801e+08 4.18520570e+05\n",
      " 1.24781841e+06 2.13620673e+04]\n",
      "----------128----------\n"
     ]
    }
   ],
   "source": [
    "for N in [8, 16, 32, 64, 128]:\n",
    "    cdl_est_values = train_cdl(N, 50, 0.5)\n",
    "    dr_est_values = train_dr(N, 50, 0.5)\n",
    "    print(np.array(cdl_est_values).mean(axis=0))\n",
    "    print(np.array(dr_est_values).mean(axis=0))\n",
    "    print(\"--\"*5 + str(N)+\"--\"*5 )"
   ]
  },
  {
   "cell_type": "code",
   "execution_count": 14,
   "metadata": {},
   "outputs": [
    {
     "name": "stdout",
     "output_type": "stream",
     "text": [
      "[3.64212415e+02 3.63155174e+02 3.62741391e+02 3.63982946e+02\n",
      " 3.62547022e+02 3.54660821e+06 1.17143885e+05 6.30458812e+03\n",
      " 2.02804373e+05 6.58121819e+03]\n",
      "[5.34660669e+06 5.39030692e+06 5.34102615e+06 5.31054044e+06\n",
      " 5.68449332e+06 5.41413441e+16 8.78900676e+08 1.34109684e+10\n",
      " 1.45785828e+12 2.63270089e+10]\n"
     ]
    }
   ],
   "source": [
    "N = 8\n",
    "cdl_est_values = train_cdl(N, 10)\n",
    "dr_est_values = train_dr(N, 10)\n",
    "print(np.array(cdl_est_values).mean(axis=0))\n",
    "print(np.array(dr_est_values).mean(axis=0))"
   ]
  },
  {
   "cell_type": "code",
   "execution_count": 15,
   "metadata": {},
   "outputs": [
    {
     "name": "stdout",
     "output_type": "stream",
     "text": [
      "[2.22504738e+01 2.67431462e+06 7.73034164e+02 3.96541044e+02\n",
      " 1.43597268e+02 4.97873293e+04 2.88397809e+03 5.05354645e+05\n",
      " 7.70204409e+02 7.59108282e+03]\n",
      "[2.53562779e+04 6.14453626e+06 1.12875001e+05 2.62410940e+03\n",
      " 1.53140977e+03 3.24888070e+04 4.25532312e+04 8.11987926e+03\n",
      " 1.10298786e+08 2.56945881e+04]\n"
     ]
    }
   ],
   "source": [
    "N = 8\n",
    "cdl_est_values = train_cdl(N, 100)\n",
    "dr_est_values = train_dr(N, 100)\n",
    "print(np.array(cdl_est_values).mean(axis=0))\n",
    "print(np.array(dr_est_values).mean(axis=0))"
   ]
  },
  {
   "cell_type": "markdown",
   "metadata": {},
   "source": [
    "# Training Step"
   ]
  },
  {
   "cell_type": "code",
   "execution_count": 26,
   "metadata": {},
   "outputs": [
    {
     "name": "stdout",
     "output_type": "stream",
     "text": [
      "[6.31943605e+04 1.71830261e+08 6.60621143e+04 1.83854909e+05\n",
      " 6.29557521e+04 3.95083027e+09 5.30933075e+05 3.03847897e+05\n",
      " 3.01877772e+06 9.41156254e+05]\n",
      "[1.45674717e+05 5.62305784e+05 1.31564423e+05 1.34648689e+05\n",
      " 1.32427251e+06 2.39606343e+09 1.46911331e+14 6.66713691e+09\n",
      " 1.28531635e+08 2.40902858e+09]\n"
     ]
    }
   ],
   "source": [
    "N = 64\n",
    "training_step = 100\n",
    "cdl_est_values = train_cdl(N, training_step)\n",
    "dr_est_values = train_dr(N, training_step)\n",
    "print(np.array(cdl_est_values).mean(axis=0))\n",
    "print(np.array(dr_est_values).mean(axis=0))"
   ]
  },
  {
   "cell_type": "code",
   "execution_count": 27,
   "metadata": {},
   "outputs": [
    {
     "name": "stdout",
     "output_type": "stream",
     "text": [
      "[1.68653295e+04 8.02705649e+00 1.19907736e+03 3.14780780e+01\n",
      " 3.98932782e+01 8.38730004e+05 3.92318122e+03 6.95953489e+04\n",
      " 1.22019822e+05 3.48546747e+06]\n",
      "[9.74688966e+03 7.74597234e+03 2.96815940e+09 6.31418542e+03\n",
      " 6.20089638e+03 1.22671743e+06 3.68697284e+09 4.77083438e+06\n",
      " 1.44713419e+07 1.88002237e+07]\n"
     ]
    }
   ],
   "source": [
    "N = 32\n",
    "training_step = 100\n",
    "cdl_est_values = train_cdl(N, training_step)\n",
    "dr_est_values = train_dr(N, training_step)\n",
    "print(np.array(cdl_est_values).mean(axis=0))\n",
    "print(np.array(dr_est_values).mean(axis=0))"
   ]
  },
  {
   "cell_type": "code",
   "execution_count": null,
   "metadata": {},
   "outputs": [],
   "source": []
  },
  {
   "cell_type": "code",
   "execution_count": 31,
   "metadata": {},
   "outputs": [
    {
     "name": "stdout",
     "output_type": "stream",
     "text": [
      "[1.50006065e+01 2.18871596e+02 1.10105989e+07 5.11114454e+02\n",
      " 1.06051950e+02 9.00031509e+01 1.04145438e+04 3.52512225e+03\n",
      " 5.52125692e+03 2.41971664e+04]\n",
      "[7.68950225e+06 7.74432824e+06 7.91731634e+06 7.70377130e+06\n",
      " 7.70934032e+06 7.88427070e+08 4.68894041e+16 1.52884448e+10\n",
      " 1.34091251e+11 2.40433729e+10]\n"
     ]
    }
   ],
   "source": [
    "N = 526\n",
    "training_step = 100\n",
    "cdl_est_values = train_cdl(N, training_step)\n",
    "dr_est_values = train_dr(N, training_step)\n",
    "print(np.array(cdl_est_values).mean(axis=0))\n",
    "print(np.array(dr_est_values).mean(axis=0))"
   ]
  },
  {
   "cell_type": "code",
   "execution_count": 30,
   "metadata": {},
   "outputs": [
    {
     "name": "stdout",
     "output_type": "stream",
     "text": [
      "[2.41623130e-01 5.83663910e-01 2.62432172e-01 1.86141613e-01\n",
      " 2.88988191e+02 2.00060656e+01 5.57397880e+00 2.69901884e+01\n",
      " 2.13138771e-01 1.53580540e+00]\n",
      "[1.34774063e+06 7.49846064e+03 7.87508115e+03 7.57209025e+03\n",
      " 7.50388969e+03 5.57463735e+05 1.85607135e+04 3.51530271e+09\n",
      " 1.84042864e+05 2.73516473e+06]\n"
     ]
    }
   ],
   "source": [
    "N = 526\n",
    "training_step = 10\n",
    "cdl_est_values = train_cdl(N, training_step)\n",
    "dr_est_values = train_dr(N, training_step)\n",
    "print(np.array(cdl_est_values).mean(axis=0))\n",
    "print(np.array(dr_est_values).mean(axis=0))"
   ]
  },
  {
   "cell_type": "code",
   "execution_count": null,
   "metadata": {},
   "outputs": [],
   "source": []
  }
 ],
 "metadata": {
  "kernelspec": {
   "display_name": "diffscm_gpu",
   "language": "python",
   "name": "diffscm_gpu"
  },
  "language_info": {
   "codemirror_mode": {
    "name": "ipython",
    "version": 3
   },
   "file_extension": ".py",
   "mimetype": "text/x-python",
   "name": "python",
   "nbconvert_exporter": "python",
   "pygments_lexer": "ipython3",
   "version": "3.7.11"
  }
 },
 "nbformat": 4,
 "nbformat_minor": 2
}
