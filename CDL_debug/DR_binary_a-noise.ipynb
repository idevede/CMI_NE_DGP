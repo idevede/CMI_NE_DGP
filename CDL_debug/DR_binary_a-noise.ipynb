{
 "cells": [
  {
   "cell_type": "code",
   "execution_count": 1,
   "metadata": {},
   "outputs": [],
   "source": [
    "# %%\n",
    "import time\n",
    "import numpy as np\n",
    "import pickle\n",
    "from numpy.linalg import det\n",
    "\n",
    "import CMINE_lib as CMINE\n",
    "# from Guassian_variables import Data_guassian\n",
    "from structurerl import * \n",
    "\n",
    "import pandas as pd\n",
    "from scipy.stats import multivariate_normal\n",
    "import itertools\n",
    "\n",
    "np.random.seed(37)\n",
    "from scipy import stats\n",
    "from sklearn.neighbors import KernelDensity\n",
    "\n",
    "import math\n",
    "\n",
    "import torch \n",
    "import torch.nn as nn\n",
    "import torch.nn.functional as F\n",
    "\n",
    "import os\n",
    "os.environ['CUDA_VISIBLE_DEVICES'] = '2'\n"
   ]
  },
  {
   "cell_type": "code",
   "execution_count": 2,
   "metadata": {},
   "outputs": [],
   "source": [
    "def log_sum_exp(value, dim=None, keepdim=False):\n",
    "    \"\"\"Numerically stable implementation of the operation\n",
    "    value.exp().sum(dim, keepdim).log()\n",
    "    \"\"\"\n",
    "    # TODO: torch.max(value, dim=None) threw an error at time of writing\n",
    "    if dim is not None:\n",
    "        m, _ = torch.max(value, dim=dim, keepdim=True)\n",
    "        value0 = value - m\n",
    "        if keepdim is False:\n",
    "            m = m.squeeze(dim)\n",
    "        return m + torch.log(torch.sum(torch.exp(value0),\n",
    "                                       dim=dim, keepdim=keepdim))\n",
    "    else:\n",
    "        m = torch.max(value)\n",
    "        sum_exp = torch.sum(torch.exp(value - m))\n",
    "        if isinstance(sum_exp, Number):\n",
    "            return m + math.log(sum_exp)\n",
    "        else:\n",
    "            return m + torch.log(sum_exp)"
   ]
  },
  {
   "cell_type": "code",
   "execution_count": 3,
   "metadata": {},
   "outputs": [],
   "source": [
    "torch.backends.cudnn.enabled = True\n",
    "torch.backends.cudnn.benchmark = True"
   ]
  },
  {
   "cell_type": "code",
   "execution_count": 4,
   "metadata": {},
   "outputs": [],
   "source": [
    "from modules.CMI import DR_CMI, CDL_CMI"
   ]
  },
  {
   "cell_type": "code",
   "execution_count": 5,
   "metadata": {},
   "outputs": [],
   "source": [
    "Dim = 5\n",
    "batch_size = 64\n",
    "#dataset = CMINE.create_dataset_DGP( Dim=5, N=batch_size)\n",
    "dataset = create_dataset_DGP_binary_A_conf( Dim=5, N=batch_size)\n",
    "s_t = torch.from_numpy(dataset[0]).float().cuda()\n",
    "s_next = torch.from_numpy(dataset[1]).float().cuda()\n",
    "a = torch.from_numpy(dataset[2]).float().cuda()"
   ]
  },
  {
   "cell_type": "code",
   "execution_count": 6,
   "metadata": {},
   "outputs": [],
   "source": [
    "sample_dim = 2*Dim\n",
    "\n",
    "hidden_size = 15\n",
    "learning_rate = 0.005\n",
    "training_steps = 10\n",
    "\n",
    "cubic = False \n"
   ]
  },
  {
   "cell_type": "code",
   "execution_count": 7,
   "metadata": {},
   "outputs": [],
   "source": [
    "def train_dr(N = 64, training_steps = 10, noise = 0.1):\n",
    "    torch.cuda.empty_cache()\n",
    "    model_dr = DR_CMI(sample_dim + 1, sample_dim, hidden_size).cuda()\n",
    "    optimizer_dr = torch.optim.Adam(model_dr.parameters(), learning_rate)\n",
    "    dr_est_values = []\n",
    "    for step in range(training_steps):\n",
    "        #batch_x, batch_y = sample_correlated_gaussian(rho, dim=sample_dim, batch_size = batch_size, to_cuda = True, cubic = cubic)\n",
    "        #dataset = create_dataset_DGP_binary_A_conf(Dim=Dim, N=N)\n",
    "        dataset = create_dataset_DGP_binary_A_more_noise(Dim=Dim, N=N, noise = noise)\n",
    "        #dataset = create_dataset_DGP_binary_A(Dim=Dim, N=N)\n",
    "        s_t = torch.from_numpy(dataset[0]).float().cuda()\n",
    "        s_next = torch.from_numpy(dataset[1]).float().cuda()\n",
    "        a = torch.from_numpy(dataset[2]).float().cuda()\n",
    "        #print(a)\n",
    "\n",
    "        batch_x = torch.cat([s_t,a], dim=1)\n",
    "        batch_y = s_next\n",
    "        model_dr.eval()\n",
    "        drs = model_dr(batch_x, batch_y)\n",
    "        #mi_est_values.append(cmi)\n",
    "        dr_est_values.append(drs)\n",
    "        model_dr.train() \n",
    "\n",
    "        model_loss = model_dr.learning_loss(batch_x, batch_y)\n",
    "\n",
    "        optimizer_dr.zero_grad()\n",
    "        model_loss.backward(retain_graph=True)\n",
    "        optimizer_dr.step()\n",
    "\n",
    "        del batch_x, batch_y\n",
    "        torch.cuda.empty_cache()\n",
    "    return dr_est_values"
   ]
  },
  {
   "cell_type": "code",
   "execution_count": 8,
   "metadata": {},
   "outputs": [],
   "source": [
    "def train_cdl(N = 64, training_steps = 10, noise = 0.1):\n",
    "    torch.cuda.empty_cache()\n",
    "    model_cdl = CDL_CMI(sample_dim + 1, sample_dim, hidden_size).cuda()\n",
    "    optimizer_cdl = torch.optim.Adam(model_cdl.parameters(), learning_rate)\n",
    "    cdl_est_values = []\n",
    "    for step in range(training_steps):\n",
    "        #batch_x, batch_y = sample_correlated_gaussian(rho, dim=sample_dim, batch_size = batch_size, to_cuda = True, cubic = cubic)\n",
    "        #dataset = create_dataset_DGP_binary_A_conf(Dim=Dim, N=64)\n",
    "        dataset = create_dataset_DGP_binary_A_more_noise(Dim=Dim, N=N, noise = noise)\n",
    "        #dataset = create_dataset_DGP_binary_A(Dim=Dim, N=64)\n",
    "        s_t = torch.from_numpy(dataset[0]).float().cuda()\n",
    "        s_next = torch.from_numpy(dataset[1]).float().cuda()\n",
    "        a = torch.from_numpy(dataset[2]).float().cuda()\n",
    "\n",
    "        batch_x = torch.cat([s_t,a], dim=1)\n",
    "        batch_y = s_next\n",
    "        model_cdl.eval()\n",
    "        cdl_cmi = model_cdl(batch_x, batch_y)\n",
    "        cdl_est_values.append(cdl_cmi)\n",
    "        model_cdl.train() \n",
    "\n",
    "        model_loss = model_cdl.learning_loss(batch_x, batch_y)\n",
    "\n",
    "        optimizer_cdl.zero_grad()\n",
    "        model_loss.backward(retain_graph=True)\n",
    "        optimizer_cdl.step()\n",
    "\n",
    "        del batch_x, batch_y\n",
    "        torch.cuda.empty_cache()\n",
    "    return cdl_est_values"
   ]
  },
  {
   "cell_type": "code",
   "execution_count": 9,
   "metadata": {},
   "outputs": [
    {
     "name": "stdout",
     "output_type": "stream",
     "text": [
      "[5.08203380e+03 5.07689674e+03 5.07596928e+03 5.07691093e+03\n",
      " 5.07763493e+03 5.20894909e+07 2.49430462e+14 2.66375671e+08\n",
      " 2.91236501e+07 3.24908658e+07]\n",
      "[5.41008848e+03 5.28923849e+03 4.03628418e+05 5.12845097e+03\n",
      " 5.51013351e+05 1.49308878e+08 2.57488784e+09 1.21480156e+06\n",
      " 2.73027260e+11 2.84857181e+06]\n"
     ]
    }
   ],
   "source": [
    "N = 8\n",
    "cdl_est_values = train_cdl(N, 100)\n",
    "dr_est_values = train_dr(N, 100)\n",
    "print(np.array(cdl_est_values).mean(axis=0))\n",
    "print(np.array(dr_est_values).mean(axis=0))"
   ]
  },
  {
   "cell_type": "code",
   "execution_count": 10,
   "metadata": {},
   "outputs": [
    {
     "name": "stdout",
     "output_type": "stream",
     "text": [
      "[ 0.25160089 20.90705369 41.72471771  0.22760719  0.66024089  0.56176038\n",
      "  1.67688251  5.35747147  0.70878812  2.89557232]\n",
      "[1.02449280e+00 6.80109338e-01 8.48897291e-01 1.01883583e+00\n",
      " 1.62740350e+02 1.33371779e+02 9.96202892e+01 9.51680172e+01\n",
      " 6.79234699e+01 1.55864088e+04]\n"
     ]
    }
   ],
   "source": [
    "N = 16\n",
    "cdl_est_values = train_cdl(N, 10)\n",
    "dr_est_values = train_dr(N, 10)\n",
    "print(np.array(cdl_est_values).mean(axis=0))\n",
    "print(np.array(dr_est_values).mean(axis=0))"
   ]
  },
  {
   "cell_type": "code",
   "execution_count": 11,
   "metadata": {},
   "outputs": [
    {
     "name": "stdout",
     "output_type": "stream",
     "text": [
      "[4.70797213e-01 1.03628284e+00 2.52753370e-01 1.80713377e+01\n",
      " 3.27465548e-01 1.02087174e+01 1.39288551e+02 3.37460004e+01\n",
      " 6.44902174e+02 5.10537716e+00]\n",
      "[5.39571622e+03 5.83858509e+03 8.55009451e+03 5.26270402e+03\n",
      " 5.52547864e+03 1.18610010e+08 9.64424706e+08 5.50517226e+03\n",
      " 8.65865125e+05 7.54818882e+04]\n"
     ]
    }
   ],
   "source": [
    "N = 32\n",
    "cdl_est_values = train_cdl(N, 10)\n",
    "dr_est_values = train_dr(N, 10)\n",
    "print(np.array(cdl_est_values).mean(axis=0))\n",
    "print(np.array(dr_est_values).mean(axis=0))"
   ]
  },
  {
   "cell_type": "code",
   "execution_count": 17,
   "metadata": {},
   "outputs": [
    {
     "name": "stdout",
     "output_type": "stream",
     "text": [
      "[0.20533267 6.41830869 0.36476142 2.17412648 0.20718515 7.70160287\n",
      " 0.36651939 9.37775562 0.50441016 2.954366  ]\n",
      "[3.69959268e+02 6.12342524e+02 5.90525959e+02 6.95779578e+02\n",
      " 5.83077422e+02 1.96545525e+08 8.87359976e+02 1.33609852e+04\n",
      " 2.45061627e+05 9.25536269e+04]\n"
     ]
    }
   ],
   "source": [
    "N=64\n",
    "cdl_est_values = train_cdl(N, 10)\n",
    "dr_est_values = train_dr(N, 10)\n",
    "print(np.array(cdl_est_values).mean(axis=0))\n",
    "print(np.array(dr_est_values).mean(axis=0))"
   ]
  },
  {
   "cell_type": "code",
   "execution_count": 16,
   "metadata": {},
   "outputs": [
    {
     "name": "stdout",
     "output_type": "stream",
     "text": [
      "[0.67332595 0.07067285 0.06221422 0.05769692 0.05641404 0.22059119\n",
      " 0.31473258 0.43435641 0.49405592 0.14012249]\n",
      "[4.16078431e+01 1.06862337e+02 1.24928540e+02 1.00113302e+02\n",
      " 8.76377323e+01 3.94086891e+05 1.73749864e+09 1.10081746e+05\n",
      " 2.85273925e+04 2.87328206e+07]\n"
     ]
    }
   ],
   "source": [
    "N=128\n",
    "cdl_est_values = train_cdl(N, 10)\n",
    "dr_est_values = train_dr(N, 10)\n",
    "print(np.array(cdl_est_values).mean(axis=0))\n",
    "print(np.array(dr_est_values).mean(axis=0))"
   ]
  },
  {
   "cell_type": "markdown",
   "metadata": {},
   "source": [
    "# Add Noise"
   ]
  },
  {
   "cell_type": "code",
   "execution_count": 20,
   "metadata": {},
   "outputs": [
    {
     "name": "stdout",
     "output_type": "stream",
     "text": [
      "[1.50807499e+02 4.62607846e+00 4.17793512e+00 4.58887104e+00\n",
      " 5.30967041e+00 2.43819219e+05 2.32101256e+03 1.81911865e+04\n",
      " 5.60197254e+02 5.53280915e+02]\n",
      "[1.38506134e+12 2.51517883e+11 1.84226267e+05 3.20695053e+07\n",
      " 3.31736433e+06 4.06365373e+09 2.08861528e+07 2.03350160e+05\n",
      " 2.79993891e+08 2.25176659e+05]\n",
      "----------8----------\n",
      "[6.46139278e+06 6.46299686e+06 6.46146165e+06 6.46163432e+06\n",
      " 6.50703142e+06 1.85626803e+10 3.98990505e+15 3.55471859e+08\n",
      " 1.49689870e+09 1.91844620e+10]\n",
      "[4.23173144e+04 2.46368612e+02 5.52164237e+02 5.31464425e+02\n",
      " 3.09564114e+02 1.22811745e+08 5.11384563e+04 5.11401818e+04\n",
      " 5.38226931e+04 9.97454350e+05]\n",
      "----------16----------\n",
      "[2.00956854e+01 1.55605180e+01 6.28407089e+01 1.71832725e+01\n",
      " 1.37664207e+01 2.64652491e+07 9.95282069e+02 1.09864795e+03\n",
      " 1.37166580e+06 2.55753486e+02]\n",
      "[1.77034982e+03 2.41482696e+03 2.57785120e+04 2.39645013e+03\n",
      " 1.21346664e+06 1.29198787e+09 3.39466295e+05 1.15756326e+05\n",
      " 6.47215526e+08 3.21895300e+06]\n",
      "----------32----------\n",
      "[ 65.03286957   1.31410518 556.14417515  52.66378684  16.05398843\n",
      "   5.34228955 672.15785813  80.09384796 131.36301502  16.91826812]\n",
      "[1.80153209e+04 1.06525043e+06 1.54643909e+04 1.70721681e+04\n",
      " 1.41283765e+04 1.45953052e+11 1.29094626e+08 1.12671906e+12\n",
      " 2.31696707e+07 1.09133894e+12]\n",
      "----------64----------\n",
      "[1.44957259e+01 6.78933815e+05 2.76749489e+01 1.10323276e+02\n",
      " 1.04350497e+01 9.98216187e+06 1.49004902e+05 9.11419636e+04\n",
      " 9.42057367e+03 9.01555736e+07]\n",
      "[2.05976679e+03 5.22877318e+02 5.03838300e+02 5.49064578e+02\n",
      " 4.49758075e+02 2.11543363e+09 1.87592801e+08 4.18520570e+05\n",
      " 1.24781841e+06 2.13620673e+04]\n",
      "----------128----------\n"
     ]
    }
   ],
   "source": [
    "for N in [8, 16, 32, 64, 128]:\n",
    "    cdl_est_values = train_cdl(N, 50, 0.5)\n",
    "    dr_est_values = train_dr(N, 50, 0.5)\n",
    "    print(np.array(cdl_est_values).mean(axis=0))\n",
    "    print(np.array(dr_est_values).mean(axis=0))\n",
    "    print(\"--\"*5 + str(N)+\"--\"*5 )"
   ]
  },
  {
   "cell_type": "code",
   "execution_count": 22,
   "metadata": {},
   "outputs": [],
   "source": [
    "def train_esm(N = 64, training_steps = 10, noise = 0.1):\n",
    "    torch.cuda.empty_cache()\n",
    "    model_dr = DR_CMI(sample_dim + 1, sample_dim, hidden_size).cuda()\n",
    "    optimizer_dr = torch.optim.Adam(model_dr.parameters(), learning_rate)\n",
    "    dr_est_values = []\n",
    "    \n",
    "    model_cdl = CDL_CMI(sample_dim + 1, sample_dim, hidden_size).cuda()\n",
    "    optimizer_cdl = torch.optim.Adam(model_cdl.parameters(), learning_rate)\n",
    "    cdl_est_values = []\n",
    "    \n",
    "    for step in range(training_steps):\n",
    "        #batch_x, batch_y = sample_correlated_gaussian(rho, dim=sample_dim, batch_size = batch_size, to_cuda = True, cubic = cubic)\n",
    "        dataset = create_dataset_DGP_binary_A_more_noise(Dim=Dim, N=N, noise = noise)\n",
    "\n",
    "        s_t = torch.from_numpy(dataset[0]).float().cuda()\n",
    "        s_next = torch.from_numpy(dataset[1]).float().cuda()\n",
    "        a = torch.from_numpy(dataset[2]).float().cuda()\n",
    "\n",
    "        batch_x = torch.cat([s_t,a], dim=1)\n",
    "        batch_y = s_next\n",
    "        model_dr.eval()\n",
    "        drs = model_dr(batch_x, batch_y)\n",
    "        #mi_est_values.append(cmi)\n",
    "        dr_est_values.append(drs)\n",
    "        model_dr.train() \n",
    "\n",
    "        model_loss = model_dr.learning_loss(batch_x, batch_y)\n",
    "\n",
    "        optimizer_dr.zero_grad()\n",
    "        model_loss.backward(retain_graph=True)\n",
    "        optimizer_dr.step()\n",
    "        \n",
    "        model_cdl.eval()\n",
    "        cdl_cmi = model_cdl(batch_x, batch_y)\n",
    "        cdl_est_values.append(cdl_cmi)\n",
    "        model_cdl.train() \n",
    "\n",
    "        model_loss = model_cdl.learning_loss(batch_x, batch_y)\n",
    "\n",
    "        optimizer_cdl.zero_grad()\n",
    "        model_loss.backward(retain_graph=True)\n",
    "        optimizer_cdl.step()\n",
    "\n",
    "\n",
    "        del batch_x, batch_y\n",
    "        torch.cuda.empty_cache()\n",
    "    return dr_est_values, cdl_est_values"
   ]
  },
  {
   "cell_type": "code",
   "execution_count": 25,
   "metadata": {},
   "outputs": [
    {
     "name": "stdout",
     "output_type": "stream",
     "text": [
      "[3.38594083e+02 1.83895398e+01 8.37286426e+01 1.84279997e+01\n",
      " 3.79040217e+07 1.07467069e+06 2.33347633e+06 3.45733655e+03\n",
      " 1.31322720e+07 3.68683632e+05]\n",
      "[8.56149368e+05 3.77157626e+04 2.16002744e+05 4.68553822e+04\n",
      " 8.13047022e+10 2.31649953e+06 5.39631798e+07 1.01031378e+05\n",
      " 2.85446885e+09 3.88631370e+08]\n",
      "----------8----------\n",
      "[1.99224922e+02 1.17058606e+01 2.03682434e+01 2.86654071e+00\n",
      " 8.21532342e+00 2.59176565e+03 2.25856106e+04 2.71498087e+01\n",
      " 1.03163252e+02 3.95464426e+03]\n",
      "[4.59167968e+03 5.76948195e+02 2.23547625e+03 1.86705089e+02\n",
      " 1.20381299e+04 4.43203652e+05 1.68142097e+08 1.54148297e+03\n",
      " 4.63560712e+05 6.45667189e+04]\n",
      "----------16----------\n",
      "[2.56404550e+00 2.28048298e-01 7.36443764e-01 4.47801178e-01\n",
      " 2.48955675e+03 1.14897091e+02 3.45882274e+00 2.43291493e+04\n",
      " 7.24691966e+00 8.27029348e+01]\n",
      "[2.45369511e+02 3.85833877e+02 4.64090002e+02 8.11293392e+01\n",
      " 1.31550284e+06 1.08406802e+06 8.32986370e+04 2.56700279e+09\n",
      " 7.09952414e+04 1.48924749e+05]\n",
      "----------32----------\n",
      "[1.72142521e+02 1.58690283e+02 1.35378329e+03 2.81731036e+02\n",
      " 2.21950873e+04 1.23159133e+06 2.20989190e+04 1.07337348e+09\n",
      " 1.30957943e+09 7.97682721e+05]\n",
      "[1.94621068e+06 2.11140824e+06 2.30689799e+06 2.12749485e+06\n",
      " 5.50590730e+07 1.16786590e+11 3.28029126e+09 5.38675563e+10\n",
      " 9.79512682e+14 4.70939773e+13]\n",
      "----------64----------\n",
      "[1.29472427e+06 1.30895565e+06 1.30692117e+06 1.30691612e+06\n",
      " 1.30831552e+06 2.30101759e+08 2.14177753e+15 8.23602341e+07\n",
      " 2.83660570e+08 3.84074610e+10]\n",
      "[2.19429146e+08 2.25033131e+08 2.23378260e+08 2.23378836e+08\n",
      " 2.23450749e+08 3.54811804e+09 1.54851466e+13 1.51124897e+09\n",
      " 2.41715408e+10 6.70842785e+10]\n",
      "----------128----------\n"
     ]
    }
   ],
   "source": [
    "for N in [8, 16, 32, 64, 128]:\n",
    "    dr_est_values, cdl_est_values = train_esm(N, 50, 0.5)\n",
    "    print(np.array(cdl_est_values).mean(axis=0))\n",
    "    print(np.array(dr_est_values).mean(axis=0))\n",
    "    print(\"--\"*5 + str(N)+\"--\"*5 )"
   ]
  },
  {
   "cell_type": "code",
   "execution_count": 27,
   "metadata": {},
   "outputs": [
    {
     "name": "stdout",
     "output_type": "stream",
     "text": [
      "[2.58688776e-02 3.14448350e-02 3.23014447e-02 3.17584275e-02\n",
      " 3.37463979e-01 5.26443155e-01 3.36356470e+00 2.71037366e-02\n",
      " 4.65464313e-02 3.59360135e+03]\n",
      "[3.91149684e+01 3.31706378e+01 2.16607776e+01 1.83334297e+00\n",
      " 6.58520113e+01 1.50981243e+03 8.74387470e+03 1.75143613e+02\n",
      " 1.01453519e+02 8.24042613e+06]\n",
      "----------8----------\n",
      "[5.71370046e+00 6.00958121e+04 6.61197395e+02 4.87536064e+02\n",
      " 7.40461493e+02 2.55165153e+01 8.31012781e+02 3.50528249e+00\n",
      " 3.28419056e-01 1.39141718e+02]\n",
      "[3.81235410e+03 5.57574409e+07 3.16964919e+03 3.13232854e+03\n",
      " 6.97645245e+05 3.49267754e+04 1.08262268e+06 1.22653625e+03\n",
      " 1.03423233e+02 1.86392757e+05]\n",
      "----------16----------\n",
      "[1.45208160e+04 1.45190939e+04 1.45225698e+04 1.45131483e+04\n",
      " 1.45053522e+04 7.39798062e+07 2.46370406e+09 7.76685470e+05\n",
      " 2.95360564e+06 4.14605539e+05]\n",
      "[1.10241962e+06 1.10254999e+06 1.10230056e+06 1.10209369e+06\n",
      " 1.10321552e+06 7.28201534e+11 8.02384716e+14 5.43608594e+07\n",
      " 1.26174679e+09 3.89022948e+07]\n",
      "----------32----------\n",
      "[2.10195627e+00 1.36328774e+00 1.20907505e+00 1.98096670e+00\n",
      " 1.03088297e+00 1.36198997e+03 4.22441371e+04 1.69684515e+06\n",
      " 9.34400086e+02 1.14337526e+06]\n",
      "[3.22398211e+01 4.15624905e+01 1.81085316e+01 2.29817133e+01\n",
      " 8.23393782e+00 1.35452457e+05 5.68417696e+06 6.38635372e+06\n",
      " 6.20337576e+04 1.76537967e+08]\n",
      "----------64----------\n",
      "[3.95799181e+03 4.07524324e+03 4.06053605e+03 4.05663269e+03\n",
      " 4.05803486e+03 4.17616856e+09 1.86267766e+13 9.20392002e+08\n",
      " 1.66868940e+06 2.65333480e+09]\n",
      "[1.15279786e+08 1.20234678e+08 1.20309721e+08 1.20231625e+08\n",
      " 1.20322287e+08 4.19517591e+11 9.24911042e+12 1.41987240e+10\n",
      " 6.81495489e+08 2.46068635e+10]\n",
      "----------128----------\n"
     ]
    }
   ],
   "source": [
    "for N in [8, 16, 32, 64, 128]:\n",
    "    dr_est_values, cdl_est_values = train_esm(N, 10, 0.1)\n",
    "    print(np.array(cdl_est_values).mean(axis=0))\n",
    "    print(np.array(dr_est_values).mean(axis=0))\n",
    "    print(\"--\"*5 + str(N)+\"--\"*5 )"
   ]
  },
  {
   "cell_type": "code",
   "execution_count": 28,
   "metadata": {},
   "outputs": [
    {
     "name": "stdout",
     "output_type": "stream",
     "text": [
      "[1.20790892e+05 1.19690792e+05 1.19662189e+05 1.19696278e+05\n",
      " 1.19658677e+05 1.72590670e+13 4.68786265e+13 2.11238321e+09\n",
      " 1.50218364e+07 9.15999233e+09]\n",
      "[8.12056729e+04 7.81258253e+04 7.80088483e+04 7.80515903e+04\n",
      " 7.80616326e+04 4.63401692e+08 2.36433519e+09 3.08024949e+06\n",
      " 5.24814833e+05 1.54535174e+08]\n",
      "----------8----------\n",
      "[1.47137301e+01 4.29080002e+00 1.81682656e+02 4.14768334e+02\n",
      " 1.51478847e+01 2.14041746e+05 1.88452450e+05 3.62240456e+03\n",
      " 4.59544955e+02 1.39848667e+03]\n",
      "[1.55667240e+03 7.38763778e+02 1.12208126e+03 1.39481844e+03\n",
      " 6.21814058e+02 5.47996789e+07 5.79219566e+09 1.21513243e+05\n",
      " 3.16925616e+06 6.84207836e+06]\n",
      "----------16----------\n",
      "[3.70793840e+02 3.50981161e+02 3.51046000e+02 3.50984322e+02\n",
      " 3.51838251e+02 6.82989481e+04 9.35522479e+06 2.23485467e+06\n",
      " 4.94710811e+11 4.10584215e+08]\n",
      "[1.01176170e+07 1.07204054e+07 1.07209878e+07 1.07264863e+07\n",
      " 1.07151324e+07 1.05947354e+08 3.28127543e+10 9.27379600e+09\n",
      " 1.83652818e+15 1.50979542e+12]\n",
      "----------32----------\n",
      "[2.81598095e+02 2.34595636e+01 1.40341787e+02 8.44819166e+01\n",
      " 1.39914897e+00 2.06875611e+06 1.07743472e+02 6.91956398e+04\n",
      " 1.09647791e+02 6.31862863e+02]\n",
      "[1.42208168e+05 7.55062400e+02 2.17808216e+03 1.37582877e+03\n",
      " 6.46467345e+02 3.22095452e+08 3.92488205e+04 4.74619795e+06\n",
      " 2.19523307e+05 5.89410554e+06]\n",
      "----------64----------\n",
      "[4.42064321e+00 4.14491202e+00 1.32378710e+02 4.02856878e+00\n",
      " 4.17672435e+00 1.18219056e+03 1.73620416e+01 4.51770243e+06\n",
      " 7.86559937e+03 8.74673057e+01]\n",
      "[6.50677602e+02 7.57914516e+02 1.31711701e+04 7.87356793e+02\n",
      " 7.31189173e+02 6.00781122e+06 2.56663868e+05 1.18406954e+11\n",
      " 2.35012802e+08 3.18000665e+05]\n",
      "----------128----------\n"
     ]
    }
   ],
   "source": [
    "for N in [8, 16, 32, 64, 128]:\n",
    "    dr_est_values, cdl_est_values = train_esm(N, 50, 0.1)\n",
    "    print(np.array(cdl_est_values).mean(axis=0))\n",
    "    print(np.array(dr_est_values).mean(axis=0))\n",
    "    print(\"--\"*5 + str(N)+\"--\"*5 )"
   ]
  },
  {
   "cell_type": "markdown",
   "metadata": {},
   "source": [
    "# Training Step"
   ]
  },
  {
   "cell_type": "code",
   "execution_count": 26,
   "metadata": {},
   "outputs": [
    {
     "name": "stdout",
     "output_type": "stream",
     "text": [
      "[6.31943605e+04 1.71830261e+08 6.60621143e+04 1.83854909e+05\n",
      " 6.29557521e+04 3.95083027e+09 5.30933075e+05 3.03847897e+05\n",
      " 3.01877772e+06 9.41156254e+05]\n",
      "[1.45674717e+05 5.62305784e+05 1.31564423e+05 1.34648689e+05\n",
      " 1.32427251e+06 2.39606343e+09 1.46911331e+14 6.66713691e+09\n",
      " 1.28531635e+08 2.40902858e+09]\n"
     ]
    }
   ],
   "source": [
    "N = 64\n",
    "training_step = 100\n",
    "cdl_est_values = train_cdl(N, training_step)\n",
    "dr_est_values = train_dr(N, training_step)\n",
    "print(np.array(cdl_est_values).mean(axis=0))\n",
    "print(np.array(dr_est_values).mean(axis=0))"
   ]
  },
  {
   "cell_type": "code",
   "execution_count": 27,
   "metadata": {},
   "outputs": [
    {
     "name": "stdout",
     "output_type": "stream",
     "text": [
      "[1.68653295e+04 8.02705649e+00 1.19907736e+03 3.14780780e+01\n",
      " 3.98932782e+01 8.38730004e+05 3.92318122e+03 6.95953489e+04\n",
      " 1.22019822e+05 3.48546747e+06]\n",
      "[9.74688966e+03 7.74597234e+03 2.96815940e+09 6.31418542e+03\n",
      " 6.20089638e+03 1.22671743e+06 3.68697284e+09 4.77083438e+06\n",
      " 1.44713419e+07 1.88002237e+07]\n"
     ]
    }
   ],
   "source": [
    "N = 32\n",
    "training_step = 100\n",
    "cdl_est_values = train_cdl(N, training_step)\n",
    "dr_est_values = train_dr(N, training_step)\n",
    "print(np.array(cdl_est_values).mean(axis=0))\n",
    "print(np.array(dr_est_values).mean(axis=0))"
   ]
  },
  {
   "cell_type": "code",
   "execution_count": null,
   "metadata": {},
   "outputs": [],
   "source": []
  },
  {
   "cell_type": "code",
   "execution_count": 31,
   "metadata": {},
   "outputs": [
    {
     "name": "stdout",
     "output_type": "stream",
     "text": [
      "[1.50006065e+01 2.18871596e+02 1.10105989e+07 5.11114454e+02\n",
      " 1.06051950e+02 9.00031509e+01 1.04145438e+04 3.52512225e+03\n",
      " 5.52125692e+03 2.41971664e+04]\n",
      "[7.68950225e+06 7.74432824e+06 7.91731634e+06 7.70377130e+06\n",
      " 7.70934032e+06 7.88427070e+08 4.68894041e+16 1.52884448e+10\n",
      " 1.34091251e+11 2.40433729e+10]\n"
     ]
    }
   ],
   "source": [
    "N = 526\n",
    "training_step = 100\n",
    "cdl_est_values = train_cdl(N, training_step)\n",
    "dr_est_values = train_dr(N, training_step)\n",
    "print(np.array(cdl_est_values).mean(axis=0))\n",
    "print(np.array(dr_est_values).mean(axis=0))"
   ]
  },
  {
   "cell_type": "code",
   "execution_count": 30,
   "metadata": {},
   "outputs": [
    {
     "name": "stdout",
     "output_type": "stream",
     "text": [
      "[2.41623130e-01 5.83663910e-01 2.62432172e-01 1.86141613e-01\n",
      " 2.88988191e+02 2.00060656e+01 5.57397880e+00 2.69901884e+01\n",
      " 2.13138771e-01 1.53580540e+00]\n",
      "[1.34774063e+06 7.49846064e+03 7.87508115e+03 7.57209025e+03\n",
      " 7.50388969e+03 5.57463735e+05 1.85607135e+04 3.51530271e+09\n",
      " 1.84042864e+05 2.73516473e+06]\n"
     ]
    }
   ],
   "source": [
    "N = 526\n",
    "training_step = 10\n",
    "cdl_est_values = train_cdl(N, training_step)\n",
    "dr_est_values = train_dr(N, training_step)\n",
    "print(np.array(cdl_est_values).mean(axis=0))\n",
    "print(np.array(dr_est_values).mean(axis=0))"
   ]
  },
  {
   "cell_type": "code",
   "execution_count": null,
   "metadata": {},
   "outputs": [],
   "source": []
  }
 ],
 "metadata": {
  "kernelspec": {
   "display_name": "diffscm_gpu",
   "language": "python",
   "name": "diffscm_gpu"
  },
  "language_info": {
   "codemirror_mode": {
    "name": "ipython",
    "version": 3
   },
   "file_extension": ".py",
   "mimetype": "text/x-python",
   "name": "python",
   "nbconvert_exporter": "python",
   "pygments_lexer": "ipython3",
   "version": "3.7.11"
  }
 },
 "nbformat": 4,
 "nbformat_minor": 2
}
