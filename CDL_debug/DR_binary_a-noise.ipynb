{
 "cells": [
  {
   "cell_type": "code",
   "execution_count": 1,
   "metadata": {},
   "outputs": [],
   "source": [
    "# %%\n",
    "import time\n",
    "import numpy as np\n",
    "import pickle\n",
    "from numpy.linalg import det\n",
    "\n",
    "import CMINE_lib as CMINE\n",
    "# from Guassian_variables import Data_guassian\n",
    "from structurerl import * \n",
    "\n",
    "import pandas as pd\n",
    "from scipy.stats import multivariate_normal\n",
    "import itertools\n",
    "\n",
    "np.random.seed(37)\n",
    "from scipy import stats\n",
    "from sklearn.neighbors import KernelDensity\n",
    "\n",
    "import math\n",
    "\n",
    "import torch \n",
    "import torch.nn as nn\n",
    "import torch.nn.functional as F\n",
    "\n",
    "import os\n",
    "os.environ['CUDA_VISIBLE_DEVICES'] = '2'\n"
   ]
  },
  {
   "cell_type": "code",
   "execution_count": 2,
   "metadata": {},
   "outputs": [],
   "source": [
    "def log_sum_exp(value, dim=None, keepdim=False):\n",
    "    \"\"\"Numerically stable implementation of the operation\n",
    "    value.exp().sum(dim, keepdim).log()\n",
    "    \"\"\"\n",
    "    # TODO: torch.max(value, dim=None) threw an error at time of writing\n",
    "    if dim is not None:\n",
    "        m, _ = torch.max(value, dim=dim, keepdim=True)\n",
    "        value0 = value - m\n",
    "        if keepdim is False:\n",
    "            m = m.squeeze(dim)\n",
    "        return m + torch.log(torch.sum(torch.exp(value0),\n",
    "                                       dim=dim, keepdim=keepdim))\n",
    "    else:\n",
    "        m = torch.max(value)\n",
    "        sum_exp = torch.sum(torch.exp(value - m))\n",
    "        if isinstance(sum_exp, Number):\n",
    "            return m + math.log(sum_exp)\n",
    "        else:\n",
    "            return m + torch.log(sum_exp)"
   ]
  },
  {
   "cell_type": "code",
   "execution_count": 3,
   "metadata": {},
   "outputs": [],
   "source": [
    "torch.backends.cudnn.enabled = True\n",
    "torch.backends.cudnn.benchmark = True"
   ]
  },
  {
   "cell_type": "code",
   "execution_count": 4,
   "metadata": {},
   "outputs": [],
   "source": [
    "from modules.CMI import DR_CMI, CDL_CMI"
   ]
  },
  {
   "cell_type": "code",
   "execution_count": 5,
   "metadata": {},
   "outputs": [],
   "source": [
    "Dim = 5\n",
    "batch_size = 64\n",
    "#dataset = CMINE.create_dataset_DGP( Dim=5, N=batch_size)\n",
    "dataset = create_dataset_DGP_binary_A_conf( Dim=5, N=batch_size)\n",
    "s_t = torch.from_numpy(dataset[0]).float().cuda()\n",
    "s_next = torch.from_numpy(dataset[1]).float().cuda()\n",
    "a = torch.from_numpy(dataset[2]).float().cuda()"
   ]
  },
  {
   "cell_type": "code",
   "execution_count": 6,
   "metadata": {},
   "outputs": [],
   "source": [
    "sample_dim = 2*Dim\n",
    "\n",
    "hidden_size = 15\n",
    "learning_rate = 0.005\n",
    "training_steps = 10\n",
    "\n",
    "cubic = False \n"
   ]
  },
  {
   "cell_type": "code",
   "execution_count": 7,
   "metadata": {},
   "outputs": [],
   "source": [
    "def train_dr(N = 64, training_steps = 10, noise = 0.1):\n",
    "    torch.cuda.empty_cache()\n",
    "    model_dr = DR_CMI(sample_dim + 1, sample_dim, hidden_size).cuda()\n",
    "    optimizer_dr = torch.optim.Adam(model_dr.parameters(), learning_rate)\n",
    "    dr_est_values = []\n",
    "    for step in range(training_steps):\n",
    "        #batch_x, batch_y = sample_correlated_gaussian(rho, dim=sample_dim, batch_size = batch_size, to_cuda = True, cubic = cubic)\n",
    "        #dataset = create_dataset_DGP_binary_A_conf(Dim=Dim, N=N)\n",
    "        dataset = create_dataset_DGP_binary_A_more_noise(Dim=Dim, N=N, noise = noise)\n",
    "        #dataset = create_dataset_DGP_binary_A(Dim=Dim, N=N)\n",
    "        s_t = torch.from_numpy(dataset[0]).float().cuda()\n",
    "        s_next = torch.from_numpy(dataset[1]).float().cuda()\n",
    "        a = torch.from_numpy(dataset[2]).float().cuda()\n",
    "        #print(a)\n",
    "\n",
    "        batch_x = torch.cat([s_t,a], dim=1)\n",
    "        batch_y = s_next\n",
    "        model_dr.eval()\n",
    "        drs = model_dr(batch_x, batch_y)\n",
    "        #mi_est_values.append(cmi)\n",
    "        dr_est_values.append(drs)\n",
    "        model_dr.train() \n",
    "\n",
    "        model_loss = model_dr.learning_loss(batch_x, batch_y)\n",
    "\n",
    "        optimizer_dr.zero_grad()\n",
    "        model_loss.backward(retain_graph=True)\n",
    "        optimizer_dr.step()\n",
    "\n",
    "        del batch_x, batch_y\n",
    "        torch.cuda.empty_cache()\n",
    "    return dr_est_values"
   ]
  },
  {
   "cell_type": "code",
   "execution_count": 8,
   "metadata": {},
   "outputs": [],
   "source": [
    "def train_cdl(N = 64, training_steps = 10, noise = 0.1):\n",
    "    torch.cuda.empty_cache()\n",
    "    model_cdl = CDL_CMI(sample_dim + 1, sample_dim, hidden_size).cuda()\n",
    "    optimizer_cdl = torch.optim.Adam(model_cdl.parameters(), learning_rate)\n",
    "    cdl_est_values = []\n",
    "    for step in range(training_steps):\n",
    "        #batch_x, batch_y = sample_correlated_gaussian(rho, dim=sample_dim, batch_size = batch_size, to_cuda = True, cubic = cubic)\n",
    "        #dataset = create_dataset_DGP_binary_A_conf(Dim=Dim, N=64)\n",
    "        dataset = create_dataset_DGP_binary_A_more_noise(Dim=Dim, N=N, noise = noise)\n",
    "        #dataset = create_dataset_DGP_binary_A(Dim=Dim, N=64)\n",
    "        s_t = torch.from_numpy(dataset[0]).float().cuda()\n",
    "        s_next = torch.from_numpy(dataset[1]).float().cuda()\n",
    "        a = torch.from_numpy(dataset[2]).float().cuda()\n",
    "\n",
    "        batch_x = torch.cat([s_t,a], dim=1)\n",
    "        batch_y = s_next\n",
    "        model_cdl.eval()\n",
    "        cdl_cmi = model_cdl(batch_x, batch_y)\n",
    "        cdl_est_values.append(cdl_cmi)\n",
    "        model_cdl.train() \n",
    "\n",
    "        model_loss = model_cdl.learning_loss(batch_x, batch_y)\n",
    "\n",
    "        optimizer_cdl.zero_grad()\n",
    "        model_loss.backward(retain_graph=True)\n",
    "        optimizer_cdl.step()\n",
    "\n",
    "        del batch_x, batch_y\n",
    "        torch.cuda.empty_cache()\n",
    "    return cdl_est_values"
   ]
  },
  {
   "cell_type": "code",
   "execution_count": 9,
   "metadata": {},
   "outputs": [
    {
     "name": "stdout",
     "output_type": "stream",
     "text": [
      "[1.42807053e+05 1.42753602e+05 1.42749906e+05 1.42753415e+05\n",
      " 1.42761860e+05 2.95067178e+06 6.76185767e+09 8.98941433e+06\n",
      " 3.77409148e+07 2.35669452e+06]\n",
      "[9.17653270e+01 5.53447919e+01 2.48633819e+03 1.14063154e+02\n",
      " 5.37941885e+04 8.25474727e+03 8.50891374e+03 3.55694774e+02\n",
      " 5.44043101e+04 6.38314029e+04]\n"
     ]
    }
   ],
   "source": [
    "N = 8\n",
    "cdl_est_values = train_cdl(N, 100)\n",
    "dr_est_values = train_dr(N, 100)\n",
    "print(np.array(cdl_est_values).mean(axis=0))\n",
    "print(np.array(dr_est_values).mean(axis=0))"
   ]
  },
  {
   "attachments": {},
   "cell_type": "markdown",
   "metadata": {},
   "source": [
    "## Old Results "
   ]
  },
  {
   "cell_type": "code",
   "execution_count": 18,
   "metadata": {},
   "outputs": [
    {
     "name": "stdout",
     "output_type": "stream",
     "text": [
      "[1.08953588e+06 1.08790531e+01 1.44941089e+03 9.76991869e+00\n",
      " 1.07381283e+01 7.46936350e+01 6.51227847e+04 1.62549371e+03\n",
      " 9.11367771e+07 3.97163777e+03]\n",
      "[3.40228854e-01 7.89110609e-01 4.39443491e-01 5.32390746e-01\n",
      " 4.89074229e-01 1.32232449e+02 8.08412067e+03 9.68853994e-01\n",
      " 5.00934945e+00 8.82207803e+01]\n"
     ]
    }
   ],
   "source": [
    "N = 16\n",
    "cdl_est_values = train_cdl(N, 10)\n",
    "dr_est_values = train_dr(N, 10)\n",
    "print(np.array(cdl_est_values).mean(axis=0))\n",
    "print(np.array(dr_est_values).mean(axis=0))"
   ]
  },
  {
   "cell_type": "code",
   "execution_count": 19,
   "metadata": {},
   "outputs": [
    {
     "name": "stdout",
     "output_type": "stream",
     "text": [
      "[1.19239076e+00 9.48515549e+00 2.62783273e-01 2.91438824e-01\n",
      " 2.84085817e-01 2.02316330e+02 9.52513240e+00 1.01251328e+01\n",
      " 3.89528570e+01 2.11831938e+04]\n",
      "[5.08776069e-01 4.90942820e+00 1.88697887e-01 4.82539841e-01\n",
      " 5.17962856e-01 8.88308585e+02 8.50928133e+00 6.07973797e+01\n",
      " 9.21396018e+03 8.99030582e+01]\n"
     ]
    }
   ],
   "source": [
    "N = 32\n",
    "cdl_est_values = train_cdl(N, 10)\n",
    "dr_est_values = train_dr(N, 10)\n",
    "print(np.array(cdl_est_values).mean(axis=0))\n",
    "print(np.array(dr_est_values).mean(axis=0))"
   ]
  },
  {
   "cell_type": "code",
   "execution_count": 20,
   "metadata": {},
   "outputs": [
    {
     "name": "stdout",
     "output_type": "stream",
     "text": [
      "[1.69835299e+04 1.86289765e+04 1.86692927e+04 1.86542401e+04\n",
      " 1.86682338e+04 2.42494386e+05 3.14070918e+07 1.00317374e+13\n",
      " 7.91771850e+05 3.49275749e+12]\n",
      "[3.80414079e+00 3.62093483e+04 4.16812099e+01 1.23442339e+00\n",
      " 2.22157874e+00 8.73493478e+04 5.98312236e+04 2.55250510e+03\n",
      " 7.10490719e+02 4.58063107e+04]\n"
     ]
    }
   ],
   "source": [
    "N=64\n",
    "cdl_est_values = train_cdl(N, 10)\n",
    "dr_est_values = train_dr(N, 10)\n",
    "print(np.array(cdl_est_values).mean(axis=0))\n",
    "print(np.array(dr_est_values).mean(axis=0))"
   ]
  },
  {
   "cell_type": "code",
   "execution_count": 21,
   "metadata": {},
   "outputs": [
    {
     "name": "stdout",
     "output_type": "stream",
     "text": [
      "[1.09370371e+02 2.63216174e+00 3.95621713e+00 1.38161645e+03\n",
      " 1.05474120e+01 1.86754954e+03 1.67750882e+04 4.75895515e+04\n",
      " 4.50832448e+05 5.32900840e+06]\n",
      "[9.98662822e+00 1.46549784e+00 2.40550194e+03 1.42676535e+00\n",
      " 1.73044784e+00 2.49111101e+07 4.76009027e+03 2.30951621e+02\n",
      " 9.79896792e+02 2.15491152e+03]\n"
     ]
    }
   ],
   "source": [
    "N=128\n",
    "cdl_est_values = train_cdl(N, 10)\n",
    "dr_est_values = train_dr(N, 10)\n",
    "print(np.array(cdl_est_values).mean(axis=0))\n",
    "print(np.array(dr_est_values).mean(axis=0))"
   ]
  },
  {
   "attachments": {},
   "cell_type": "markdown",
   "metadata": {},
   "source": [
    "# Add Noise -new results"
   ]
  },
  {
   "cell_type": "code",
   "execution_count": 17,
   "metadata": {},
   "outputs": [],
   "source": [
    "for N in [8, 16, 32, 64, 128]:\n",
    "    cdl_est_values = train_cdl(N, 50, 0.5)\n",
    "    dr_est_values = train_dr(N, 50, 0.5)\n",
    "    print(np.array(cdl_est_values).mean(axis=0))\n",
    "    print(np.array(dr_est_values).mean(axis=0))\n",
    "    print(\"--\"*5 + str(N)+\"--\"*5 )"
   ]
  },
  {
   "cell_type": "code",
   "execution_count": 11,
   "metadata": {},
   "outputs": [],
   "source": [
    "def train_esm(N = 64, training_steps = 10, noise = 0.1):\n",
    "    torch.cuda.empty_cache()\n",
    "    model_dr = DR_CMI(sample_dim + 1, sample_dim, hidden_size).cuda()\n",
    "    optimizer_dr = torch.optim.Adam(model_dr.parameters(), learning_rate)\n",
    "    dr_est_values = []\n",
    "    \n",
    "    model_cdl = CDL_CMI(sample_dim + 1, sample_dim, hidden_size).cuda()\n",
    "    optimizer_cdl = torch.optim.Adam(model_cdl.parameters(), learning_rate)\n",
    "    cdl_est_values = []\n",
    "    \n",
    "    for step in range(training_steps):\n",
    "        #batch_x, batch_y = sample_correlated_gaussian(rho, dim=sample_dim, batch_size = batch_size, to_cuda = True, cubic = cubic)\n",
    "        dataset = create_dataset_DGP_binary_A_more_noise(Dim=Dim, N=N, noise = noise)\n",
    "\n",
    "        s_t = torch.from_numpy(dataset[0]).float().cuda()\n",
    "        s_next = torch.from_numpy(dataset[1]).float().cuda()\n",
    "        a = torch.from_numpy(dataset[2]).float().cuda()\n",
    "\n",
    "        batch_x = torch.cat([s_t,a], dim=1)\n",
    "        batch_y = s_next\n",
    "        model_dr.eval()\n",
    "        drs = model_dr(batch_x, batch_y)\n",
    "        #mi_est_values.append(cmi)\n",
    "        dr_est_values.append(drs)\n",
    "        model_dr.train() \n",
    "\n",
    "        model_loss = model_dr.learning_loss(batch_x, batch_y)\n",
    "\n",
    "        optimizer_dr.zero_grad()\n",
    "        model_loss.backward(retain_graph=True)\n",
    "        optimizer_dr.step()\n",
    "        \n",
    "        model_cdl.eval()\n",
    "        cdl_cmi = model_cdl(batch_x, batch_y)\n",
    "        cdl_est_values.append(cdl_cmi)\n",
    "        model_cdl.train() \n",
    "\n",
    "        model_loss = model_cdl.learning_loss(batch_x, batch_y)\n",
    "\n",
    "        optimizer_cdl.zero_grad()\n",
    "        model_loss.backward(retain_graph=True)\n",
    "        optimizer_cdl.step()\n",
    "\n",
    "\n",
    "        del batch_x, batch_y\n",
    "        torch.cuda.empty_cache()\n",
    "    return dr_est_values, cdl_est_values"
   ]
  },
  {
   "cell_type": "code",
   "execution_count": 12,
   "metadata": {},
   "outputs": [
    {
     "name": "stdout",
     "output_type": "stream",
     "text": [
      "[6.27522378e+01 1.99899927e+01 4.49873515e+06 2.00200868e+00\n",
      " 1.68166133e+06 3.58446657e+04 9.29702518e+03 1.23249434e+01\n",
      " 3.09786244e+03 2.33797748e+03]\n",
      "[9.46756958e+01 1.47041189e+01 5.50061596e+06 9.66862688e-01\n",
      " 1.58130117e+05 4.07256182e+03 8.50385204e+02 1.43844149e+01\n",
      " 1.06400933e+02 7.59205550e+02]\n",
      "----------8----------\n",
      "[1.73272173e+02 1.72410264e+02 1.72702997e+02 1.01910669e+04\n",
      " 1.73670759e+02 5.29206498e+03 2.93857890e+04 1.08014004e+10\n",
      " 3.17839742e+05 2.62457337e+04]\n",
      "[4.69256786e+02 4.70873291e+02 4.70567813e+02 3.93826687e+03\n",
      " 4.72690386e+02 5.99947338e+02 3.98868638e+04 5.85785349e+09\n",
      " 1.19711881e+05 3.85847352e+04]\n",
      "----------16----------\n",
      "[5.50198784e+04 1.65428897e+05 1.52550235e+04 4.08272492e+02\n",
      " 9.48673955e+00 1.17554815e+03 4.05244490e+04 8.28555150e+05\n",
      " 6.32163527e+03 4.48339228e+07]\n",
      "[8.61598978e+03 1.67764485e+05 1.40673700e+04 2.39443851e+02\n",
      " 1.07057798e+02 3.93649812e+04 3.78271892e+05 1.44752587e+06\n",
      " 1.00650161e+05 7.26311190e+09]\n",
      "----------32----------\n",
      "[2.51350680e+00 1.59582164e+01 4.62481513e+00 3.38926795e+00\n",
      " 5.12785366e+00 9.36547419e+04 3.11292034e+03 2.06067107e+07\n",
      " 4.60379443e+04 2.16720008e+03]\n",
      "[7.33467491e+00 3.98007494e+01 2.26807645e+01 1.98329565e+01\n",
      " 1.75655978e+01 6.71006619e+05 1.08757110e+04 1.30259047e+08\n",
      " 4.17569447e+04 9.15674729e+03]\n",
      "----------64----------\n",
      "[8.84060359e+02 9.67630089e+02 4.23196015e+05 4.92157465e+01\n",
      " 2.46835202e+03 1.28135413e+01 3.35367216e+01 9.20530364e+01\n",
      " 4.27127050e+03 6.99767339e+03]\n",
      "[5.65178147e+02 1.70534296e+03 4.91029840e+04 6.05893782e+00\n",
      " 4.98767622e+03 4.42518029e+01 2.28523678e+02 8.99963135e+02\n",
      " 1.43337878e+05 2.86885410e+03]\n",
      "----------128----------\n"
     ]
    }
   ],
   "source": [
    "for N in [8, 16, 32, 64, 128]:\n",
    "    dr_est_values, cdl_est_values = train_esm(N, 50, 0.5)\n",
    "    print(np.array(cdl_est_values).mean(axis=0))\n",
    "    print(np.array(dr_est_values).mean(axis=0))\n",
    "    print(\"--\"*5 + str(N)+\"--\"*5 )"
   ]
  },
  {
   "cell_type": "code",
   "execution_count": 13,
   "metadata": {},
   "outputs": [
    {
     "name": "stdout",
     "output_type": "stream",
     "text": [
      "[0.04866999 7.01217682 0.04766131 0.12564618 0.11494481 0.18814224\n",
      " 8.59377559 0.07897958 0.5596874  0.29858135]\n",
      "[ 0.2424953  80.34619155  0.15440329  0.45440101  0.90330312  0.33658343\n",
      " 39.69718642  0.26733409  1.76217201  0.30534739]\n",
      "----------8----------\n",
      "[1.66565640e+01 1.97844515e+01 1.77469333e+01 1.66696469e+01\n",
      " 1.72111965e+01 4.64933332e+04 6.90912953e+03 1.33696373e+08\n",
      " 2.76609252e+03 7.31972743e+04]\n",
      "[4.80097537e-01 6.74288021e+00 2.64210631e+00 7.78250272e-01\n",
      " 4.31166643e-01 1.78720563e+04 1.23545206e+03 5.44934836e+07\n",
      " 9.03627574e+02 3.10088114e+04]\n",
      "----------16----------\n",
      "[2.60282330e+01 2.54104346e+01 2.56296945e+01 2.62729466e+01\n",
      " 2.68032038e+01 3.61918728e+10 8.83780702e+06 2.65420460e+03\n",
      " 1.01977157e+05 2.72661188e+04]\n",
      "[3.48236828e+02 3.48176392e+02 3.48637211e+02 3.48957086e+02\n",
      " 3.48875133e+02 4.76743188e+10 1.16829665e+07 4.52072919e+03\n",
      " 1.39457876e+05 3.87198933e+04]\n",
      "----------32----------\n",
      "[1.11735786e-01 1.18895508e-01 1.14877799e-01 1.88267124e+00\n",
      " 1.44813668e-01 1.33759016e+03 8.26452832e+00 6.57186197e-01\n",
      " 4.16556589e+00 7.98442913e+00]\n",
      "[2.14740166e-02 2.37181325e-02 2.36778577e-02 3.46436737e-01\n",
      " 3.21702751e-02 2.65429676e+03 7.55384516e-01 9.35316536e-01\n",
      " 5.92629357e+00 1.26858525e+01]\n",
      "----------64----------\n",
      "[1.77025508e+01 1.79248910e+01 1.76980029e+01 1.77962417e+01\n",
      " 1.73300800e+01 2.10245924e+03 1.34157114e+03 6.30425758e+03\n",
      " 2.22081731e+07 7.34482784e+02]\n",
      "[1.66078497e+01 1.68564739e+01 1.67729945e+01 1.68084453e+01\n",
      " 1.66023220e+01 1.99212829e+02 8.58030621e+01 9.45278007e+02\n",
      " 5.12644205e+06 6.69081366e+00]\n",
      "----------128----------\n"
     ]
    }
   ],
   "source": [
    "for N in [8, 16, 32, 64, 128]:\n",
    "    dr_est_values, cdl_est_values = train_esm(N, 10, 0.1)\n",
    "    print(np.array(cdl_est_values).mean(axis=0))\n",
    "    print(np.array(dr_est_values).mean(axis=0))\n",
    "    print(\"--\"*5 + str(N)+\"--\"*5 )"
   ]
  },
  {
   "cell_type": "code",
   "execution_count": 14,
   "metadata": {},
   "outputs": [
    {
     "name": "stdout",
     "output_type": "stream",
     "text": [
      "[5.58244097e+01 2.55891578e+01 2.03924307e+05 2.65426140e+00\n",
      " 9.54317603e+00 6.27322246e+01 2.27773337e+02 8.67647185e+01\n",
      " 9.61960018e+02 2.15560068e+01]\n",
      "[1.05678488e+01 1.26729427e+01 2.94472421e+05 3.05807425e+00\n",
      " 5.50986946e+00 2.58575006e+01 9.26393252e+01 1.08811140e+01\n",
      " 2.34142155e+01 8.97571105e+00]\n",
      "----------8----------\n",
      "[2.51419614e+02 2.51159905e+02 2.54982574e+02 9.06241668e+03\n",
      " 2.57967822e+02 4.22905741e+03 1.28840933e+11 1.96511170e+08\n",
      " 9.69982748e+04 8.26377681e+04]\n",
      "[7.88506074e+03 7.89027345e+03 7.95177220e+03 1.03649639e+04\n",
      " 7.91944751e+03 4.65513900e+03 6.13914088e+10 1.68715285e+08\n",
      " 8.86504383e+04 1.40712098e+05]\n",
      "----------16----------\n",
      "[1.62616104e+02 6.72364695e+02 1.74696710e+03 8.68771990e+01\n",
      " 8.76604958e+01 1.13363569e+04 1.35902816e+05 1.33471457e+08\n",
      " 1.87849775e+04 2.75284862e+08]\n",
      "[2.16974102e+02 2.64064622e+03 3.16799670e+03 4.29129479e+01\n",
      " 4.98180613e+01 1.27525146e+04 1.54038188e+05 1.99937280e+08\n",
      " 1.30997407e+04 2.22880642e+08]\n",
      "----------32----------\n",
      "[2.27096877e+00 2.71470111e+02 9.42317287e+00 5.84755326e+01\n",
      " 5.06169654e+00 2.27625171e+02 2.33290163e+01 1.65462432e+04\n",
      " 4.50905565e+03 4.86861732e+01]\n",
      "[1.05423386e+00 8.87834017e+01 3.24927060e+00 4.11846117e+01\n",
      " 1.36239792e+00 2.35581846e+02 1.55182183e+01 5.15041618e+03\n",
      " 9.86057736e+03 3.50410633e+01]\n",
      "----------64----------\n",
      "[4.09082169e+01 1.31494466e+00 7.20430170e+00 7.95250998e+00\n",
      " 1.20129271e+00 1.36091042e+04 2.43506636e+03 8.66437798e+01\n",
      " 1.85562582e+06 1.79268869e+03]\n",
      "[1.08566061e+02 1.52889771e+01 3.38532813e+01 2.77629492e+01\n",
      " 1.52661302e+01 5.96629729e+05 7.79763027e+03 2.14647355e+02\n",
      " 1.27260635e+07 5.62125361e+02]\n",
      "----------128----------\n"
     ]
    }
   ],
   "source": [
    "for N in [8, 16, 32, 64, 128]:\n",
    "    dr_est_values, cdl_est_values = train_esm(N, 50, 0.1)\n",
    "    print(np.array(cdl_est_values).mean(axis=0))\n",
    "    print(np.array(dr_est_values).mean(axis=0))\n",
    "    print(\"--\"*5 + str(N)+\"--\"*5 )"
   ]
  },
  {
   "cell_type": "markdown",
   "metadata": {},
   "source": [
    "# Training Step"
   ]
  },
  {
   "cell_type": "code",
   "execution_count": 15,
   "metadata": {},
   "outputs": [
    {
     "name": "stdout",
     "output_type": "stream",
     "text": [
      "[2.01726316e+03 2.04238323e+05 6.07205578e+01 2.41863759e+06\n",
      " 5.87945271e+01 3.91935844e+02 1.57143758e+05 3.43342937e+04\n",
      " 4.07721823e+05 5.57646968e+02]\n",
      "[7.39971510e+06 7.39403409e+06 7.39384683e+06 7.39388170e+06\n",
      " 7.39375034e+06 9.30547196e+08 1.76988732e+10 5.26174280e+17\n",
      " 6.79014097e+08 8.33487436e+09]\n"
     ]
    }
   ],
   "source": [
    "N = 64\n",
    "training_step = 100\n",
    "cdl_est_values = train_cdl(N, training_step)\n",
    "dr_est_values = train_dr(N, training_step)\n",
    "print(np.array(cdl_est_values).mean(axis=0))\n",
    "print(np.array(dr_est_values).mean(axis=0))"
   ]
  },
  {
   "cell_type": "code",
   "execution_count": 16,
   "metadata": {},
   "outputs": [
    {
     "name": "stdout",
     "output_type": "stream",
     "text": [
      "[2.53453184e+05 1.74253382e+07 2.54031519e+05 2.53812429e+05\n",
      " 2.53168319e+05 3.46062771e+06 2.51382961e+08 1.54563827e+12\n",
      " 1.84511028e+06 1.65020993e+06]\n",
      "[1.11571460e+02 6.64161811e+02 1.32397845e+01 1.88535050e+01\n",
      " 4.88466334e+03 2.44870363e+05 3.17462745e+04 1.03511919e+07\n",
      " 1.45789549e+03 1.74743499e+05]\n"
     ]
    }
   ],
   "source": [
    "N = 32\n",
    "training_step = 100\n",
    "cdl_est_values = train_cdl(N, training_step)\n",
    "dr_est_values = train_dr(N, training_step)\n",
    "print(np.array(cdl_est_values).mean(axis=0))\n",
    "print(np.array(dr_est_values).mean(axis=0))"
   ]
  },
  {
   "cell_type": "code",
   "execution_count": null,
   "metadata": {},
   "outputs": [],
   "source": []
  },
  {
   "cell_type": "code",
   "execution_count": null,
   "metadata": {},
   "outputs": [],
   "source": []
  }
 ],
 "metadata": {
  "kernelspec": {
   "display_name": "diffscm_gpu",
   "language": "python",
   "name": "python3"
  },
  "language_info": {
   "codemirror_mode": {
    "name": "ipython",
    "version": 3
   },
   "file_extension": ".py",
   "mimetype": "text/x-python",
   "name": "python",
   "nbconvert_exporter": "python",
   "pygments_lexer": "ipython3",
   "version": "3.7.11"
  }
 },
 "nbformat": 4,
 "nbformat_minor": 2
}
