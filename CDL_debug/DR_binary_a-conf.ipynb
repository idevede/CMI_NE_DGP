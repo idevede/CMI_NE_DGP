{
 "cells": [
  {
   "cell_type": "code",
   "execution_count": 1,
   "metadata": {},
   "outputs": [],
   "source": [
    "# %%\n",
    "import time\n",
    "import numpy as np\n",
    "import pickle\n",
    "from numpy.linalg import det\n",
    "\n",
    "import CMINE_lib as CMINE\n",
    "# from Guassian_variables import Data_guassian\n",
    "from structurerl import * \n",
    "\n",
    "import pandas as pd\n",
    "from scipy.stats import multivariate_normal\n",
    "import itertools\n",
    "\n",
    "np.random.seed(37)\n",
    "from scipy import stats\n",
    "from sklearn.neighbors import KernelDensity\n",
    "\n",
    "import math\n",
    "\n",
    "import torch \n",
    "import torch.nn as nn\n",
    "import torch.nn.functional as F\n",
    "\n",
    "import os\n",
    "os.environ['CUDA_VISIBLE_DEVICES'] = '2'\n"
   ]
  },
  {
   "cell_type": "code",
   "execution_count": 2,
   "metadata": {},
   "outputs": [],
   "source": [
    "def log_sum_exp(value, dim=None, keepdim=False):\n",
    "    \"\"\"Numerically stable implementation of the operation\n",
    "    value.exp().sum(dim, keepdim).log()\n",
    "    \"\"\"\n",
    "    # TODO: torch.max(value, dim=None) threw an error at time of writing\n",
    "    if dim is not None:\n",
    "        m, _ = torch.max(value, dim=dim, keepdim=True)\n",
    "        value0 = value - m\n",
    "        if keepdim is False:\n",
    "            m = m.squeeze(dim)\n",
    "        return m + torch.log(torch.sum(torch.exp(value0),\n",
    "                                       dim=dim, keepdim=keepdim))\n",
    "    else:\n",
    "        m = torch.max(value)\n",
    "        sum_exp = torch.sum(torch.exp(value - m))\n",
    "        if isinstance(sum_exp, Number):\n",
    "            return m + math.log(sum_exp)\n",
    "        else:\n",
    "            return m + torch.log(sum_exp)"
   ]
  },
  {
   "cell_type": "code",
   "execution_count": 3,
   "metadata": {},
   "outputs": [],
   "source": [
    "torch.backends.cudnn.enabled = True\n",
    "torch.backends.cudnn.benchmark = True"
   ]
  },
  {
   "cell_type": "code",
   "execution_count": 4,
   "metadata": {},
   "outputs": [],
   "source": [
    "from modules.CMI import DR_CMI, CDL_CMI"
   ]
  },
  {
   "cell_type": "code",
   "execution_count": 5,
   "metadata": {},
   "outputs": [],
   "source": [
    "Dim = 5\n",
    "batch_size = 64\n",
    "#dataset = CMINE.create_dataset_DGP( Dim=5, N=batch_size)\n",
    "dataset = create_dataset_DGP_binary_A_conf( Dim=5, N=batch_size)\n",
    "s_t = torch.from_numpy(dataset[0]).float().cuda()\n",
    "s_next = torch.from_numpy(dataset[1]).float().cuda()\n",
    "a = torch.from_numpy(dataset[2]).float().cuda()"
   ]
  },
  {
   "cell_type": "code",
   "execution_count": 6,
   "metadata": {},
   "outputs": [],
   "source": [
    "sample_dim = 2*Dim\n",
    "\n",
    "hidden_size = 15\n",
    "learning_rate = 0.005\n",
    "training_steps = 10\n",
    "\n",
    "cubic = False \n"
   ]
  },
  {
   "cell_type": "code",
   "execution_count": 7,
   "metadata": {},
   "outputs": [],
   "source": [
    "def train_dr(N = 64, training_steps = 10):\n",
    "    torch.cuda.empty_cache()\n",
    "    model_dr = DR_CMI(sample_dim + 1, sample_dim, hidden_size).cuda()\n",
    "    optimizer_dr = torch.optim.Adam(model_dr.parameters(), learning_rate)\n",
    "    dr_est_values = []\n",
    "    for step in range(training_steps):\n",
    "        #batch_x, batch_y = sample_correlated_gaussian(rho, dim=sample_dim, batch_size = batch_size, to_cuda = True, cubic = cubic)\n",
    "        dataset = create_dataset_DGP_binary_A_conf(Dim=Dim, N=N)\n",
    "        #dataset = create_dataset_DGP_binary_A(Dim=Dim, N=N)\n",
    "        s_t = torch.from_numpy(dataset[0]).float().cuda()\n",
    "        s_next = torch.from_numpy(dataset[1]).float().cuda()\n",
    "        a = torch.from_numpy(dataset[2]).float().cuda()\n",
    "        #print(a)\n",
    "\n",
    "        batch_x = torch.cat([s_t,a], dim=1)\n",
    "        batch_y = s_next\n",
    "        model_dr.eval()\n",
    "        drs = model_dr(batch_x, batch_y)\n",
    "        #mi_est_values.append(cmi)\n",
    "        dr_est_values.append(drs)\n",
    "        model_dr.train() \n",
    "\n",
    "        model_loss = model_dr.learning_loss(batch_x, batch_y)\n",
    "\n",
    "        optimizer_dr.zero_grad()\n",
    "        model_loss.backward(retain_graph=True)\n",
    "        optimizer_dr.step()\n",
    "\n",
    "        del batch_x, batch_y\n",
    "        torch.cuda.empty_cache()\n",
    "    return dr_est_values"
   ]
  },
  {
   "cell_type": "code",
   "execution_count": 8,
   "metadata": {},
   "outputs": [],
   "source": [
    "def train_cdl(N = 64, training_steps = 10):\n",
    "    torch.cuda.empty_cache()\n",
    "    model_cdl = CDL_CMI(sample_dim + 1, sample_dim, hidden_size).cuda()\n",
    "    optimizer_cdl = torch.optim.Adam(model_cdl.parameters(), learning_rate)\n",
    "    cdl_est_values = []\n",
    "    for step in range(training_steps):\n",
    "        #batch_x, batch_y = sample_correlated_gaussian(rho, dim=sample_dim, batch_size = batch_size, to_cuda = True, cubic = cubic)\n",
    "        dataset = create_dataset_DGP_binary_A_conf(Dim=Dim, N=N)\n",
    "        #dataset = create_dataset_DGP_binary_A(Dim=Dim, N=64)\n",
    "        s_t = torch.from_numpy(dataset[0]).float().cuda()\n",
    "        s_next = torch.from_numpy(dataset[1]).float().cuda()\n",
    "        a = torch.from_numpy(dataset[2]).float().cuda()\n",
    "\n",
    "        batch_x = torch.cat([s_t,a], dim=1)\n",
    "        batch_y = s_next\n",
    "        model_cdl.eval()\n",
    "        cdl_cmi = model_cdl(batch_x, batch_y)\n",
    "        cdl_est_values.append(cdl_cmi)\n",
    "        model_cdl.train() \n",
    "\n",
    "        model_loss = model_cdl.learning_loss(batch_x, batch_y)\n",
    "\n",
    "        optimizer_cdl.zero_grad()\n",
    "        model_loss.backward(retain_graph=True)\n",
    "        optimizer_cdl.step()\n",
    "\n",
    "        del batch_x, batch_y\n",
    "        torch.cuda.empty_cache()\n",
    "    return cdl_est_values"
   ]
  },
  {
   "cell_type": "code",
   "execution_count": 17,
   "metadata": {},
   "outputs": [
    {
     "name": "stdout",
     "output_type": "stream",
     "text": [
      "[7.74717566e-01 2.00575563e+00 3.04663280e-01 4.24196271e-01\n",
      " 1.52030621e+03 2.09584485e+02 5.29245237e+01 4.57642656e+02\n",
      " 9.48272430e+02 1.85075029e+06]\n",
      "[9.63950933e+03 9.57582094e+03 9.60351382e+03 9.70514245e+03\n",
      " 9.70159701e+03 2.22066365e+05 1.86636486e+09 5.98517839e+05\n",
      " 5.64498476e+05 1.60611569e+05]\n"
     ]
    }
   ],
   "source": [
    "N=64\n",
    "cdl_est_values = train_cdl(N, 10)\n",
    "dr_est_values = train_dr(N, 10)\n",
    "print(np.array(cdl_est_values).mean(axis=0))\n",
    "print(np.array(dr_est_values).mean(axis=0))"
   ]
  },
  {
   "cell_type": "code",
   "execution_count": 14,
   "metadata": {},
   "outputs": [
    {
     "name": "stdout",
     "output_type": "stream",
     "text": [
      "[9.39067727e+01 2.60213449e+01 1.52895031e+02 5.26721411e+01\n",
      " 1.00172588e+04 6.40147732e+01 2.38063097e+05 2.71312666e+00\n",
      " 2.75721590e+02 1.05767696e+02]\n",
      "[6.10599471e+05 2.37744361e+03 3.54157147e+03 1.06949477e+04\n",
      " 1.04649346e+03 9.93568372e+04 1.59619324e+05 8.37194225e+06\n",
      " 2.27745039e+06 1.29276019e+10]\n"
     ]
    }
   ],
   "source": [
    "N=128\n",
    "cdl_est_values = train_cdl(N, 10)\n",
    "dr_est_values = train_dr(N, 10)\n",
    "print(np.array(cdl_est_values).mean(axis=0))\n",
    "print(np.array(dr_est_values).mean(axis=0))"
   ]
  },
  {
   "cell_type": "code",
   "execution_count": 12,
   "metadata": {},
   "outputs": [
    {
     "name": "stdout",
     "output_type": "stream",
     "text": [
      "[5.64183102e+01 5.93802901e+02 5.16957291e-01 2.50842905e+00\n",
      " 3.78324551e-01 1.28835758e+04 4.67217801e+01 9.44310241e+00\n",
      " 1.73909314e+03 5.21904449e+00]\n",
      "[9.88784355e+02 7.33353794e+00 1.73287425e+01 1.50396905e+01\n",
      " 2.97971128e+01 8.20206830e+05 8.10314223e+03 1.82840198e+06\n",
      " 1.21135296e+08 6.06468435e+05]\n"
     ]
    }
   ],
   "source": [
    "N = 32\n",
    "cdl_est_values = train_cdl(N, 10)\n",
    "dr_est_values = train_dr(N, 10)\n",
    "print(np.array(cdl_est_values).mean(axis=0))\n",
    "print(np.array(dr_est_values).mean(axis=0))"
   ]
  },
  {
   "cell_type": "code",
   "execution_count": 9,
   "metadata": {},
   "outputs": [
    {
     "name": "stdout",
     "output_type": "stream",
     "text": [
      "[31.81580292  3.1340611   0.58114218  0.13696698  2.1787725   0.49664391\n",
      " 10.07822349  0.96736877  1.05066821  0.55215529]\n",
      "[1.82377494e+04 1.12634704e+02 1.14415522e+02 7.46430986e+02\n",
      " 6.43738888e+05 2.67045332e+04 1.97531693e+07 3.11909067e+04\n",
      " 1.36134188e+05 7.97366729e+02]\n"
     ]
    }
   ],
   "source": [
    "N = 16\n",
    "cdl_est_values = train_cdl(N, 10)\n",
    "dr_est_values = train_dr(N, 10)\n",
    "print(np.array(cdl_est_values).mean(axis=0))\n",
    "print(np.array(dr_est_values).mean(axis=0))"
   ]
  },
  {
   "cell_type": "code",
   "execution_count": 10,
   "metadata": {},
   "outputs": [
    {
     "name": "stdout",
     "output_type": "stream",
     "text": [
      "[2.59658664e+00 1.60433099e-01 1.24890606e-01 1.07405156e-01\n",
      " 9.51872448e-02 8.13984725e+02 7.47336764e-01 1.68206395e+01\n",
      " 1.78448651e+00 4.12859640e-01]\n",
      "[3.09697606e-01 8.58423150e-01 1.11671200e+02 1.37955233e+00\n",
      " 2.34826639e-01 4.63200881e+02 8.17410795e+00 6.99155689e+00\n",
      " 1.09060481e+00 1.86252521e+01]\n"
     ]
    }
   ],
   "source": [
    "N = 8\n",
    "cdl_est_values = train_cdl(N, 10)\n",
    "dr_est_values = train_dr(N, 10)\n",
    "print(np.array(cdl_est_values).mean(axis=0))\n",
    "print(np.array(dr_est_values).mean(axis=0))"
   ]
  },
  {
   "cell_type": "code",
   "execution_count": 15,
   "metadata": {},
   "outputs": [
    {
     "name": "stdout",
     "output_type": "stream",
     "text": [
      "[2.22504738e+01 2.67431462e+06 7.73034164e+02 3.96541044e+02\n",
      " 1.43597268e+02 4.97873293e+04 2.88397809e+03 5.05354645e+05\n",
      " 7.70204409e+02 7.59108282e+03]\n",
      "[2.53562779e+04 6.14453626e+06 1.12875001e+05 2.62410940e+03\n",
      " 1.53140977e+03 3.24888070e+04 4.25532312e+04 8.11987926e+03\n",
      " 1.10298786e+08 2.56945881e+04]\n"
     ]
    }
   ],
   "source": [
    "N = 8\n",
    "cdl_est_values = train_cdl(N, 100)\n",
    "dr_est_values = train_dr(N, 100)\n",
    "print(np.array(cdl_est_values).mean(axis=0))\n",
    "print(np.array(dr_est_values).mean(axis=0))"
   ]
  },
  {
   "cell_type": "markdown",
   "metadata": {},
   "source": [
    "# Training Step"
   ]
  },
  {
   "cell_type": "code",
   "execution_count": 18,
   "metadata": {},
   "outputs": [],
   "source": [
    "def train_esm(N = 64, training_steps = 10, noise = 0.1):\n",
    "    torch.cuda.empty_cache()\n",
    "    model_dr = DR_CMI(sample_dim + 1, sample_dim, hidden_size).cuda()\n",
    "    optimizer_dr = torch.optim.Adam(model_dr.parameters(), learning_rate)\n",
    "    dr_est_values = []\n",
    "    \n",
    "    model_cdl = CDL_CMI(sample_dim + 1, sample_dim, hidden_size).cuda()\n",
    "    optimizer_cdl = torch.optim.Adam(model_cdl.parameters(), learning_rate)\n",
    "    cdl_est_values = []\n",
    "    \n",
    "    for step in range(training_steps):\n",
    "        #batch_x, batch_y = sample_correlated_gaussian(rho, dim=sample_dim, batch_size = batch_size, to_cuda = True, cubic = cubic)\n",
    "        #dataset = create_dataset_DGP_binary_A_more_noise(Dim=Dim, N=N, noise = noise)\n",
    "        dataset = create_dataset_DGP_binary_A_conf(Dim=Dim, N=N)\n",
    "        s_t = torch.from_numpy(dataset[0]).float().cuda()\n",
    "        s_next = torch.from_numpy(dataset[1]).float().cuda()\n",
    "        a = torch.from_numpy(dataset[2]).float().cuda()\n",
    "\n",
    "        batch_x = torch.cat([s_t,a], dim=1)\n",
    "        batch_y = s_next\n",
    "        model_dr.eval()\n",
    "        drs = model_dr(batch_x, batch_y)\n",
    "        #mi_est_values.append(cmi)\n",
    "        dr_est_values.append(drs)\n",
    "        model_dr.train() \n",
    "\n",
    "        model_loss = model_dr.learning_loss(batch_x, batch_y)\n",
    "\n",
    "        optimizer_dr.zero_grad()\n",
    "        model_loss.backward(retain_graph=True)\n",
    "        optimizer_dr.step()\n",
    "        \n",
    "        model_cdl.eval()\n",
    "        cdl_cmi = model_cdl(batch_x, batch_y)\n",
    "        cdl_est_values.append(cdl_cmi)\n",
    "        model_cdl.train() \n",
    "\n",
    "        model_loss = model_cdl.learning_loss(batch_x, batch_y)\n",
    "\n",
    "        optimizer_cdl.zero_grad()\n",
    "        model_loss.backward(retain_graph=True)\n",
    "        optimizer_cdl.step()\n",
    "\n",
    "\n",
    "        del batch_x, batch_y\n",
    "        torch.cuda.empty_cache()\n",
    "    return dr_est_values, cdl_est_values"
   ]
  },
  {
   "cell_type": "code",
   "execution_count": 20,
   "metadata": {},
   "outputs": [
    {
     "name": "stdout",
     "output_type": "stream",
     "text": [
      "[1.25329346e+01 2.33828094e-01 9.39433105e-02 1.22737312e-01\n",
      " 1.09861022e-01 5.70451570e+01 7.52661324e+03 3.59350602e+03\n",
      " 5.57162971e+01 2.77755060e+02]\n",
      "[4.27949015e+01 5.57002234e+00 4.18683417e+00 3.32199464e+00\n",
      " 2.49062462e+00 1.09259360e+03 5.88827249e+05 2.83946486e+05\n",
      " 4.90816225e+03 5.40377167e+05]\n",
      "----------8----------\n",
      "[0.25995747 0.11841028 0.39222155 0.26491672 9.66936338 0.57145281\n",
      " 0.53439771 0.85490142 0.50766723 0.32138405]\n",
      "[ 0.35467818  0.26877233  0.33225561  0.30409989 59.24332415  0.41454276\n",
      "  2.74551751  0.50846437  0.50620058  0.19574837]\n",
      "----------16----------\n",
      "[8.96984219e-01 5.21944752e-01 7.22083839e-01 5.69464850e-01\n",
      " 7.14565395e+00 3.36902386e+02 1.58821017e+01 4.31492417e+04\n",
      " 5.12508720e+01 3.09743539e+01]\n",
      "[3.95176272e+03 2.40484452e+03 3.16760386e+03 2.77049402e+03\n",
      " 2.82605991e+03 3.93826046e+05 2.86683910e+05 1.53816013e+08\n",
      " 4.43234782e+05 5.20110664e+05]\n",
      "----------32----------\n",
      "[6.04618083e+00 6.47362170e+00 6.47617442e+00 6.47034365e+00\n",
      " 6.56119749e+00 1.15887524e+05 8.54059932e+08 2.81050259e+04\n",
      " 1.34360292e+00 8.63382093e+04]\n",
      "[7.22000108e+04 7.31436116e+04 7.26218921e+04 7.11988788e+04\n",
      " 7.27892681e+04 8.27978754e+06 2.26375726e+10 3.99663663e+06\n",
      " 9.89797693e+04 8.84709908e+06]\n",
      "----------64----------\n",
      "[5.67273920e-01 4.42600916e-01 4.48516944e-01 4.63097005e-01\n",
      " 4.45205966e-01 1.08258040e+09 3.44384653e+03 2.78136465e+05\n",
      " 3.22299110e+04 2.23038249e+04]\n",
      "[3.54049590e+04 3.44421500e+04 3.43594839e+04 3.47026947e+04\n",
      " 3.44825154e+04 2.34915169e+12 9.42855713e+06 6.17848250e+08\n",
      " 6.57566148e+07 1.91753080e+08]\n",
      "----------128----------\n"
     ]
    }
   ],
   "source": [
    "for N in [8, 16, 32, 64, 128]:\n",
    "    dr_est_values, cdl_est_values = train_esm(N, 10)\n",
    "    print(np.array(cdl_est_values).mean(axis=0))\n",
    "    print(np.array(dr_est_values).mean(axis=0))\n",
    "    print(\"--\"*5 + str(N)+\"--\"*5 )"
   ]
  },
  {
   "cell_type": "code",
   "execution_count": 21,
   "metadata": {},
   "outputs": [
    {
     "name": "stdout",
     "output_type": "stream",
     "text": [
      "[8.66787768e+00 6.88185856e-01 8.97841344e+00 9.01879761e+00\n",
      " 9.77338653e-02 3.59274518e+01 1.71304762e+04 5.99201608e+02\n",
      " 4.42600560e+00 9.37441319e+01]\n",
      "[3.03503771e+01 4.66112689e+00 3.00494620e+01 5.44344696e+01\n",
      " 3.40477666e-01 2.41963234e+01 8.30842379e+03 3.19966823e+02\n",
      " 4.97556353e+00 5.62905164e+01]\n",
      "----------8----------\n",
      "[1.23886029e+01 1.14096140e+01 1.41956168e+03 1.22064305e+01\n",
      " 1.20991805e+01 4.91422698e+03 3.15020133e+05 1.02983261e+07\n",
      " 1.36199123e+04 3.51717388e+03]\n",
      "[3.04922873e+05 3.05191992e+05 3.05641042e+05 3.08461629e+05\n",
      " 3.06205604e+05 1.09546020e+08 1.03562537e+11 1.64471294e+14\n",
      " 9.28061814e+10 1.02188860e+08]\n",
      "----------16----------\n",
      "[7.27796719e+02 8.88229562e+01 6.14583699e+00 1.35158771e+00\n",
      " 8.73641329e+00 1.11071908e+02 1.81336092e+04 4.06133250e+06\n",
      " 2.75461790e+03 9.56061132e+04]\n",
      "[3.62834924e+02 8.45911386e+02 1.19608005e+05 9.05620907e+02\n",
      " 2.53453460e+02 2.03580710e+05 5.03678818e+07 1.59508256e+06\n",
      " 1.31342091e+07 8.22641811e+07]\n",
      "----------32----------\n",
      "[8.49418373e+00 4.53501365e+01 6.42859638e+00 2.22106007e+04\n",
      " 1.79793920e+04 4.98828137e+07 1.15768675e+04 2.12734403e+03\n",
      " 1.31264763e+05 9.13612344e+07]\n",
      "[2.24198208e+03 6.01209982e+03 2.52416879e+03 1.87724559e+06\n",
      " 1.42916625e+04 4.01136158e+08 1.87179683e+07 3.95288391e+06\n",
      " 1.16085112e+06 1.83480390e+11]\n",
      "----------64----------\n",
      "[8.23261383e+01 6.89470618e+00 3.84727792e+00 2.57466120e+03\n",
      " 3.74215443e+00 3.64212314e+01 4.47003022e+02 3.70033434e+04\n",
      " 1.12015385e+09 3.67202555e+03]\n",
      "[9.57187920e+04 9.52811863e+04 9.53492431e+04 1.02565600e+05\n",
      " 9.50704962e+04 2.65365424e+04 2.55596820e+05 6.11056456e+07\n",
      " 2.11433397e+12 3.83187287e+06]\n",
      "----------128----------\n"
     ]
    }
   ],
   "source": [
    "for N in [8, 16, 32, 64, 128]:\n",
    "    dr_est_values, cdl_est_values = train_esm(N, 20)\n",
    "    print(np.array(cdl_est_values).mean(axis=0))\n",
    "    print(np.array(dr_est_values).mean(axis=0))\n",
    "    print(\"--\"*5 + str(N)+\"--\"*5 )"
   ]
  },
  {
   "cell_type": "code",
   "execution_count": null,
   "metadata": {},
   "outputs": [],
   "source": []
  }
 ],
 "metadata": {
  "kernelspec": {
   "display_name": "diffscm_gpu",
   "language": "python",
   "name": "diffscm_gpu"
  },
  "language_info": {
   "codemirror_mode": {
    "name": "ipython",
    "version": 3
   },
   "file_extension": ".py",
   "mimetype": "text/x-python",
   "name": "python",
   "nbconvert_exporter": "python",
   "pygments_lexer": "ipython3",
   "version": "3.7.11"
  }
 },
 "nbformat": 4,
 "nbformat_minor": 2
}
