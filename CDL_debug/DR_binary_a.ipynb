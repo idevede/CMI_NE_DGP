{
 "cells": [
  {
   "cell_type": "code",
   "execution_count": 1,
   "metadata": {},
   "outputs": [],
   "source": [
    "# %%\n",
    "import time\n",
    "import numpy as np\n",
    "import pickle\n",
    "from numpy.linalg import det\n",
    "\n",
    "import CMINE_lib as CMINE\n",
    "# from Guassian_variables import Data_guassian\n",
    "\n",
    "import pandas as pd\n",
    "from scipy.stats import multivariate_normal\n",
    "import itertools\n",
    "\n",
    "np.random.seed(37)\n",
    "from scipy import stats\n",
    "from sklearn.neighbors import KernelDensity\n",
    "\n",
    "import math\n",
    "\n",
    "import torch \n",
    "import torch.nn as nn\n",
    "import torch.nn.functional as F\n",
    "\n",
    "import os\n",
    "os.environ['CUDA_VISIBLE_DEVICES'] = '2'\n"
   ]
  },
  {
   "cell_type": "code",
   "execution_count": 2,
   "metadata": {},
   "outputs": [],
   "source": [
    "def log_sum_exp(value, dim=None, keepdim=False):\n",
    "    \"\"\"Numerically stable implementation of the operation\n",
    "    value.exp().sum(dim, keepdim).log()\n",
    "    \"\"\"\n",
    "    # TODO: torch.max(value, dim=None) threw an error at time of writing\n",
    "    if dim is not None:\n",
    "        m, _ = torch.max(value, dim=dim, keepdim=True)\n",
    "        value0 = value - m\n",
    "        if keepdim is False:\n",
    "            m = m.squeeze(dim)\n",
    "        return m + torch.log(torch.sum(torch.exp(value0),\n",
    "                                       dim=dim, keepdim=keepdim))\n",
    "    else:\n",
    "        m = torch.max(value)\n",
    "        sum_exp = torch.sum(torch.exp(value - m))\n",
    "        if isinstance(sum_exp, Number):\n",
    "            return m + math.log(sum_exp)\n",
    "        else:\n",
    "            return m + torch.log(sum_exp)"
   ]
  },
  {
   "cell_type": "code",
   "execution_count": 3,
   "metadata": {},
   "outputs": [],
   "source": [
    "torch.backends.cudnn.enabled = True\n",
    "torch.backends.cudnn.benchmark = True"
   ]
  },
  {
   "cell_type": "code",
   "execution_count": 4,
   "metadata": {},
   "outputs": [],
   "source": [
    "from modules.CMI import DR_CMI, CDL_CMI"
   ]
  },
  {
   "cell_type": "code",
   "execution_count": 5,
   "metadata": {},
   "outputs": [],
   "source": [
    "Dim = 5\n",
    "batch_size = 64\n",
    "#dataset = CMINE.create_dataset_DGP( Dim=5, N=batch_size)\n",
    "dataset = CMINE.create_dataset_DGP_binary_A( Dim=5, N=batch_size)\n",
    "s_t = torch.from_numpy(dataset[0]).float().cuda()\n",
    "s_next = torch.from_numpy(dataset[1]).float().cuda()\n",
    "a = torch.from_numpy(dataset[2]).float().cuda()"
   ]
  },
  {
   "cell_type": "code",
   "execution_count": 6,
   "metadata": {},
   "outputs": [],
   "source": [
    "sample_dim = 2*Dim\n",
    "\n",
    "hidden_size = 15\n",
    "learning_rate = 0.005\n",
    "training_steps = 10\n",
    "\n",
    "cubic = False \n"
   ]
  },
  {
   "cell_type": "code",
   "execution_count": null,
   "metadata": {},
   "outputs": [],
   "source": [
    "def train_dr(N = 64):\n",
    "    model_dr = DR_CMI(sample_dim + 1, sample_dim, hidden_size).cuda()\n",
    "    optimizer_dr = torch.optim.Adam(model_dr.parameters(), learning_rate)\n",
    "    dr_est_values = []"
   ]
  },
  {
   "cell_type": "code",
   "execution_count": 7,
   "metadata": {},
   "outputs": [],
   "source": [
    "model_dr = DR_CMI(sample_dim + 1, sample_dim, hidden_size).cuda()\n",
    "optimizer_dr = torch.optim.Adam(model_dr.parameters(), learning_rate)\n",
    "dr_est_values = []"
   ]
  },
  {
   "cell_type": "code",
   "execution_count": 8,
   "metadata": {},
   "outputs": [],
   "source": [
    "cdl_est_values = []\n"
   ]
  },
  {
   "cell_type": "code",
   "execution_count": 9,
   "metadata": {},
   "outputs": [
    {
     "name": "stderr",
     "output_type": "stream",
     "text": [
      "/home/defucao/anaconda3/envs/diffscm_gpu/lib/python3.7/site-packages/torch/nn/functional.py:1639: UserWarning: nn.functional.sigmoid is deprecated. Use torch.sigmoid instead.\n",
      "  warnings.warn(\"nn.functional.sigmoid is deprecated. Use torch.sigmoid instead.\")\n"
     ]
    }
   ],
   "source": [
    "for step in range(training_steps):\n",
    "    #batch_x, batch_y = sample_correlated_gaussian(rho, dim=sample_dim, batch_size = batch_size, to_cuda = True, cubic = cubic)\n",
    "    dataset = CMINE.create_dataset_DGP_binary_A(Dim=Dim, N=64)\n",
    "    s_t = torch.from_numpy(dataset[0]).float().cuda()\n",
    "    s_next = torch.from_numpy(dataset[1]).float().cuda()\n",
    "    a = torch.from_numpy(dataset[2]).float().cuda()\n",
    "    \n",
    "    batch_x = torch.cat([s_t,a], dim=1)\n",
    "    batch_y = s_next\n",
    "    model_dr.eval()\n",
    "    drs = model_dr(batch_x, batch_y)\n",
    "    #mi_est_values.append(cmi)\n",
    "    dr_est_values.append(drs)\n",
    "    model_dr.train() \n",
    "\n",
    "    model_loss = model_dr.learning_loss(batch_x, batch_y)\n",
    "\n",
    "    optimizer_dr.zero_grad()\n",
    "    model_loss.backward(retain_graph=True)\n",
    "    optimizer_dr.step()\n",
    "\n",
    "    del batch_x, batch_y\n",
    "    torch.cuda.empty_cache()"
   ]
  },
  {
   "cell_type": "code",
   "execution_count": 11,
   "metadata": {},
   "outputs": [],
   "source": [
    "model_cdl = CDL_CMI(sample_dim + 1, sample_dim, hidden_size).cuda()\n",
    "optimizer_cdl = torch.optim.Adam(model_cdl.parameters(), learning_rate)\n",
    "\n",
    "for step in range(training_steps):\n",
    "    #batch_x, batch_y = sample_correlated_gaussian(rho, dim=sample_dim, batch_size = batch_size, to_cuda = True, cubic = cubic)\n",
    "    dataset = CMINE.create_dataset_DGP_binary_A(Dim=Dim, N=64)\n",
    "    s_t = torch.from_numpy(dataset[0]).float().cuda()\n",
    "    s_next = torch.from_numpy(dataset[1]).float().cuda()\n",
    "    a = torch.from_numpy(dataset[2]).float().cuda()\n",
    "    \n",
    "    batch_x = torch.cat([s_t,a], dim=1)\n",
    "    batch_y = s_next\n",
    "    model_cdl.eval()\n",
    "    cdl_cmi = model_cdl(batch_x, batch_y)\n",
    "    cdl_est_values.append(cdl_cmi)\n",
    "    model_cdl.train() \n",
    "\n",
    "    model_loss = model_cdl.learning_loss(batch_x, batch_y)\n",
    "\n",
    "    optimizer_cdl.zero_grad()\n",
    "    model_loss.backward(retain_graph=True)\n",
    "    optimizer_cdl.step()\n",
    "\n",
    "    del batch_x, batch_y\n",
    "    torch.cuda.empty_cache()"
   ]
  },
  {
   "cell_type": "code",
   "execution_count": 12,
   "metadata": {},
   "outputs": [
    {
     "name": "stdout",
     "output_type": "stream",
     "text": [
      "[5.29158881e+01 4.35538159e+03 2.15365230e+00 1.33740542e+00\n",
      " 7.05669273e+00 4.81182321e+00 1.43800545e+02 6.67770227e-01\n",
      " 1.96548440e+01 7.68899346e+00]\n",
      "[8.90897569e+02 8.43244921e+02 8.41170084e+02 9.16700953e+02\n",
      " 8.10734532e+02 1.91285104e+04 9.28880367e+05 3.69319064e+04\n",
      " 4.21118277e+07 1.34269863e+05]\n"
     ]
    }
   ],
   "source": [
    "print(np.array(cdl_est_values).mean(axis=0))\n",
    "print(np.array(dr_est_values).mean(axis=0))"
   ]
  },
  {
   "cell_type": "code",
   "execution_count": null,
   "metadata": {},
   "outputs": [],
   "source": []
  }
 ],
 "metadata": {
  "kernelspec": {
   "display_name": "diffscm_gpu",
   "language": "python",
   "name": "diffscm_gpu"
  },
  "language_info": {
   "codemirror_mode": {
    "name": "ipython",
    "version": 3
   },
   "file_extension": ".py",
   "mimetype": "text/x-python",
   "name": "python",
   "nbconvert_exporter": "python",
   "pygments_lexer": "ipython3",
   "version": "3.7.11"
  }
 },
 "nbformat": 4,
 "nbformat_minor": 2
}
