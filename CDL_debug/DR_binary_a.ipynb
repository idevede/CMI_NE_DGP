{
 "cells": [
  {
   "cell_type": "code",
   "execution_count": 1,
   "metadata": {},
   "outputs": [],
   "source": [
    "# %%\n",
    "import time\n",
    "import numpy as np\n",
    "import pickle\n",
    "from numpy.linalg import det\n",
    "\n",
    "import CMINE_lib as CMINE\n",
    "# from Guassian_variables import Data_guassian\n",
    "\n",
    "import pandas as pd\n",
    "from scipy.stats import multivariate_normal\n",
    "import itertools\n",
    "\n",
    "np.random.seed(37)\n",
    "from scipy import stats\n",
    "from sklearn.neighbors import KernelDensity\n",
    "\n",
    "import math\n",
    "\n",
    "import torch \n",
    "import torch.nn as nn\n",
    "import torch.nn.functional as F\n",
    "\n",
    "import os\n",
    "os.environ['CUDA_VISIBLE_DEVICES'] = '0'\n"
   ]
  },
  {
   "cell_type": "code",
   "execution_count": 2,
   "metadata": {},
   "outputs": [],
   "source": [
    "def log_sum_exp(value, dim=None, keepdim=False):\n",
    "    \"\"\"Numerically stable implementation of the operation\n",
    "    value.exp().sum(dim, keepdim).log()\n",
    "    \"\"\"\n",
    "    # TODO: torch.max(value, dim=None) threw an error at time of writing\n",
    "    if dim is not None:\n",
    "        m, _ = torch.max(value, dim=dim, keepdim=True)\n",
    "        value0 = value - m\n",
    "        if keepdim is False:\n",
    "            m = m.squeeze(dim)\n",
    "        return m + torch.log(torch.sum(torch.exp(value0),\n",
    "                                       dim=dim, keepdim=keepdim))\n",
    "    else:\n",
    "        m = torch.max(value)\n",
    "        sum_exp = torch.sum(torch.exp(value - m))\n",
    "        if isinstance(sum_exp, Number):\n",
    "            return m + math.log(sum_exp)\n",
    "        else:\n",
    "            return m + torch.log(sum_exp)"
   ]
  },
  {
   "cell_type": "code",
   "execution_count": 3,
   "metadata": {},
   "outputs": [],
   "source": [
    "torch.backends.cudnn.enabled = True\n",
    "torch.backends.cudnn.benchmark = True"
   ]
  },
  {
   "cell_type": "code",
   "execution_count": 4,
   "metadata": {},
   "outputs": [],
   "source": [
    "from modules.CMI import DR_CMI, CDL_CMI"
   ]
  },
  {
   "cell_type": "code",
   "execution_count": 5,
   "metadata": {},
   "outputs": [],
   "source": [
    "Dim = 5\n",
    "batch_size = 64\n",
    "#dataset = CMINE.create_dataset_DGP( Dim=5, N=batch_size)\n",
    "dataset = CMINE.create_dataset_DGP_binary_A( Dim=5, N=batch_size)\n",
    "s_t = torch.from_numpy(dataset[0]).float().cuda()\n",
    "s_next = torch.from_numpy(dataset[1]).float().cuda()\n",
    "a = torch.from_numpy(dataset[2]).float().cuda()"
   ]
  },
  {
   "cell_type": "code",
   "execution_count": 6,
   "metadata": {},
   "outputs": [],
   "source": [
    "sample_dim = 2*Dim\n",
    "\n",
    "hidden_size = 15\n",
    "learning_rate = 0.005\n",
    "training_steps = 10\n",
    "\n",
    "cubic = False \n"
   ]
  },
  {
   "cell_type": "code",
   "execution_count": 7,
   "metadata": {},
   "outputs": [],
   "source": [
    "def train_dr(N = 64, training_steps = 10):\n",
    "    torch.cuda.empty_cache()\n",
    "    model_dr = DR_CMI(sample_dim + 1, sample_dim, hidden_size).cuda()\n",
    "    optimizer_dr = torch.optim.Adam(model_dr.parameters(), learning_rate)\n",
    "    dr_est_values = []\n",
    "    for step in range(training_steps):\n",
    "        #batch_x, batch_y = sample_correlated_gaussian(rho, dim=sample_dim, batch_size = batch_size, to_cuda = True, cubic = cubic)\n",
    "        dataset = CMINE.create_dataset_DGP_binary_A(Dim=Dim, N=N)\n",
    "        s_t = torch.from_numpy(dataset[0]).float().cuda()\n",
    "        s_next = torch.from_numpy(dataset[1]).float().cuda()\n",
    "        a = torch.from_numpy(dataset[2]).float().cuda()\n",
    "\n",
    "        batch_x = torch.cat([s_t,a], dim=1)\n",
    "        batch_y = s_next\n",
    "        model_dr.eval()\n",
    "        drs = model_dr(batch_x, batch_y)\n",
    "        #mi_est_values.append(cmi)\n",
    "        dr_est_values.append(drs)\n",
    "        model_dr.train() \n",
    "\n",
    "        model_loss = model_dr.learning_loss(batch_x, batch_y)\n",
    "\n",
    "        optimizer_dr.zero_grad()\n",
    "        model_loss.backward(retain_graph=True)\n",
    "        optimizer_dr.step()\n",
    "\n",
    "        del batch_x, batch_y\n",
    "        torch.cuda.empty_cache()\n",
    "    return dr_est_values"
   ]
  },
  {
   "cell_type": "code",
   "execution_count": 8,
   "metadata": {},
   "outputs": [],
   "source": [
    "def train_cdl(N = 64, training_steps = 10):\n",
    "    torch.cuda.empty_cache()\n",
    "    model_cdl = CDL_CMI(sample_dim + 1, sample_dim, hidden_size).cuda()\n",
    "    optimizer_cdl = torch.optim.Adam(model_cdl.parameters(), learning_rate)\n",
    "    cdl_est_values = []\n",
    "    for step in range(training_steps):\n",
    "        #batch_x, batch_y = sample_correlated_gaussian(rho, dim=sample_dim, batch_size = batch_size, to_cuda = True, cubic = cubic)\n",
    "        dataset = CMINE.create_dataset_DGP_binary_A(Dim=Dim, N=N)\n",
    "        s_t = torch.from_numpy(dataset[0]).float().cuda()\n",
    "        s_next = torch.from_numpy(dataset[1]).float().cuda()\n",
    "        a = torch.from_numpy(dataset[2]).float().cuda()\n",
    "\n",
    "        batch_x = torch.cat([s_t,a], dim=1)\n",
    "        batch_y = s_next\n",
    "        model_cdl.eval()\n",
    "        cdl_cmi = model_cdl(batch_x, batch_y)\n",
    "        cdl_est_values.append(cdl_cmi)\n",
    "        model_cdl.train() \n",
    "\n",
    "        model_loss = model_cdl.learning_loss(batch_x, batch_y)\n",
    "\n",
    "        optimizer_cdl.zero_grad()\n",
    "        model_loss.backward(retain_graph=True)\n",
    "        optimizer_cdl.step()\n",
    "\n",
    "        del batch_x, batch_y\n",
    "        torch.cuda.empty_cache()\n",
    "    return cdl_est_values"
   ]
  },
  {
   "cell_type": "code",
   "execution_count": 9,
   "metadata": {},
   "outputs": [],
   "source": [
    "cdl_est_values = train_cdl()\n"
   ]
  },
  {
   "cell_type": "code",
   "execution_count": 10,
   "metadata": {},
   "outputs": [],
   "source": [
    "dr_est_values = train_dr()"
   ]
  },
  {
   "cell_type": "code",
   "execution_count": 11,
   "metadata": {},
   "outputs": [
    {
     "name": "stdout",
     "output_type": "stream",
     "text": [
      "[212.43410855 181.03487066  13.88867946   8.90139438 149.91577675\n",
      "  20.48665845   0.3961755   33.26350302   1.53078866 288.94831004]\n",
      "[2.65716080e+01 2.92947355e+01 2.83777408e+01 2.82387542e+01\n",
      " 2.87403732e+01 4.93031977e+02 8.13965871e+02 1.02927417e+06\n",
      " 1.13731133e+03 1.45716088e+03]\n"
     ]
    }
   ],
   "source": [
    "N = 64\n",
    "cdl_est_values = train_cdl(N)\n",
    "dr_est_values = train_dr(N)\n",
    "print(np.array(cdl_est_values).mean(axis=0))\n",
    "print(np.array(dr_est_values).mean(axis=0))"
   ]
  },
  {
   "cell_type": "code",
   "execution_count": 12,
   "metadata": {},
   "outputs": [
    {
     "name": "stdout",
     "output_type": "stream",
     "text": [
      "[2.09376884e+00 5.90993278e-01 8.88056797e+00 1.75195472e+00\n",
      " 2.58970748e+03 4.46875074e+00 1.19108975e+06 1.93920223e+01\n",
      " 1.19205989e+01 1.11547462e+02]\n",
      "[1.28506732e+00 1.27196821e+00 1.24692049e+00 4.50321915e+00\n",
      " 2.09011867e+00 7.78077734e+01 2.77490046e+02 3.17608686e+02\n",
      " 1.39276605e+06 6.60993560e+02]\n"
     ]
    }
   ],
   "source": [
    "N = 128\n",
    "cdl_est_values = train_cdl(N)\n",
    "dr_est_values = train_dr(N)\n",
    "print(np.array(cdl_est_values).mean(axis=0))\n",
    "print(np.array(dr_est_values).mean(axis=0))"
   ]
  },
  {
   "cell_type": "code",
   "execution_count": 13,
   "metadata": {},
   "outputs": [
    {
     "name": "stdout",
     "output_type": "stream",
     "text": [
      "[0.06895235 0.02756502 0.397309   0.65182259 0.59683229 0.10727125\n",
      " 0.6785519  4.84395778 1.47217493 0.16290962]\n",
      "[1.65885800e+00 6.95902781e-01 7.92573906e-01 5.93360118e+00\n",
      " 2.34752648e+00 8.27147290e+01 1.73405988e+01 9.22411028e+00\n",
      " 1.84655191e+01 7.90304679e+04]\n"
     ]
    }
   ],
   "source": [
    "N = 32\n",
    "cdl_est_values = train_cdl(N)\n",
    "dr_est_values = train_dr(N)\n",
    "print(np.array(cdl_est_values).mean(axis=0))\n",
    "print(np.array(dr_est_values).mean(axis=0))"
   ]
  },
  {
   "cell_type": "code",
   "execution_count": 14,
   "metadata": {},
   "outputs": [
    {
     "name": "stdout",
     "output_type": "stream",
     "text": [
      "[1.70686008e+00 1.02441696e+00 1.27264025e+01 3.40521445e+02\n",
      " 1.23847237e+00 3.20266196e+00 2.09768737e-01 7.82289181e+00\n",
      " 1.03181786e+03 9.36735677e-01]\n",
      "[1.02772041e+02 7.65122229e+03 1.60980162e+07 1.28226557e+02\n",
      " 3.35852706e+05 3.19404235e-01 1.19249740e+00 3.33773376e-01\n",
      " 6.57454240e-01 7.88449046e+00]\n"
     ]
    }
   ],
   "source": [
    "N = 16\n",
    "cdl_est_values = train_cdl(N)\n",
    "dr_est_values = train_dr(N)\n",
    "print(np.array(cdl_est_values).mean(axis=0))\n",
    "print(np.array(dr_est_values).mean(axis=0))"
   ]
  },
  {
   "cell_type": "code",
   "execution_count": 15,
   "metadata": {},
   "outputs": [
    {
     "name": "stdout",
     "output_type": "stream",
     "text": [
      "[4.87663140e-01 5.57553836e+03 6.75505167e+00 7.91179832e-02\n",
      " 6.91325274e+01 1.57431246e+02 4.14954104e+01 1.50357679e+00\n",
      " 1.36824509e+02 8.68369331e+00]\n",
      "[5.13608319e-01 5.80961051e-01 9.29477091e-01 2.67728226e+02\n",
      " 4.31119307e-01 3.23346837e+03 3.98408498e+02 1.82239026e+02\n",
      " 1.24588287e+03 8.38565530e+03]\n"
     ]
    }
   ],
   "source": [
    "N = 8\n",
    "cdl_est_values = train_cdl(N)\n",
    "dr_est_values = train_dr(N)\n",
    "print(np.array(cdl_est_values).mean(axis=0))\n",
    "print(np.array(dr_est_values).mean(axis=0))"
   ]
  },
  {
   "cell_type": "markdown",
   "metadata": {},
   "source": [
    "# Training Step"
   ]
  },
  {
   "cell_type": "code",
   "execution_count": 15,
   "metadata": {},
   "outputs": [
    {
     "name": "stdout",
     "output_type": "stream",
     "text": [
      "[7.90087952e+02 7.85717166e+02 8.86630148e+02 7.85646969e+02\n",
      " 1.60624307e+03 6.54722027e+07 4.60514869e+05 8.44506005e+04\n",
      " 2.02980041e+05 5.45358667e+05]\n",
      "[1.26068347e+07 6.77329778e+11 1.26400620e+07 3.45984030e+07\n",
      " 1.27147874e+07 1.91223624e+15 2.71988959e+09 3.92338222e+12\n",
      " 4.32217656e+14 1.64770941e+11]\n"
     ]
    }
   ],
   "source": [
    "N = 64\n",
    "training_step = 100\n",
    "cdl_est_values = train_cdl(N, training_step)\n",
    "dr_est_values = train_dr(N, training_step)\n",
    "print(np.array(cdl_est_values).mean(axis=0))\n",
    "print(np.array(dr_est_values).mean(axis=0))"
   ]
  },
  {
   "cell_type": "code",
   "execution_count": 14,
   "metadata": {},
   "outputs": [
    {
     "name": "stdout",
     "output_type": "stream",
     "text": [
      "[4.18966604e+00 3.15982827e+06 8.61560204e+02 2.23745444e+01\n",
      " 2.57475600e+04 2.69649200e+05 7.87265592e+02 6.23005884e+03\n",
      " 7.46181203e+04 1.20451452e+03]\n",
      "[2.80374949e+10 3.08702256e+10 2.81252140e+10 2.81249405e+10\n",
      " 2.81251843e+10 2.43591543e+13 2.16347626e+13 2.92307035e+19\n",
      " 3.14428485e+12 7.73048805e+13]\n"
     ]
    }
   ],
   "source": [
    "N = 32\n",
    "training_step = 100\n",
    "cdl_est_values = train_cdl(N, training_step)\n",
    "dr_est_values = train_dr(N, training_step)\n",
    "print(np.array(cdl_est_values).mean(axis=0))\n",
    "print(np.array(dr_est_values).mean(axis=0))"
   ]
  },
  {
   "cell_type": "code",
   "execution_count": 19,
   "metadata": {},
   "outputs": [
    {
     "name": "stdout",
     "output_type": "stream",
     "text": [
      "[1.57217472e+03 1.57109104e+03 1.77133819e+03 1.57102237e+03\n",
      " 1.81083862e+03 1.30944404e+08 9.21023368e+05 1.68589411e+05\n",
      " 4.05958852e+05 1.06707031e+06]\n",
      "[2.51348668e+07 1.35465464e+12 2.52112564e+07 2.52614051e+07\n",
      " 2.53483606e+07 3.82447132e+15 5.32261770e+09 7.53837592e+12\n",
      " 8.64435300e+14 3.29537708e+11]\n"
     ]
    }
   ],
   "source": [
    "print(np.array(cdl_est_values[-50:]).mean(axis=0))\n",
    "print(np.array(dr_est_values[-50:]).mean(axis=0))"
   ]
  },
  {
   "cell_type": "code",
   "execution_count": 31,
   "metadata": {},
   "outputs": [
    {
     "name": "stdout",
     "output_type": "stream",
     "text": [
      "[1.50006065e+01 2.18871596e+02 1.10105989e+07 5.11114454e+02\n",
      " 1.06051950e+02 9.00031509e+01 1.04145438e+04 3.52512225e+03\n",
      " 5.52125692e+03 2.41971664e+04]\n",
      "[7.68950225e+06 7.74432824e+06 7.91731634e+06 7.70377130e+06\n",
      " 7.70934032e+06 7.88427070e+08 4.68894041e+16 1.52884448e+10\n",
      " 1.34091251e+11 2.40433729e+10]\n"
     ]
    }
   ],
   "source": [
    "N = 526\n",
    "training_step = 100\n",
    "cdl_est_values = train_cdl(N, training_step)\n",
    "dr_est_values = train_dr(N, training_step)\n",
    "print(np.array(cdl_est_values).mean(axis=0))\n",
    "print(np.array(dr_est_values).mean(axis=0))"
   ]
  },
  {
   "cell_type": "code",
   "execution_count": 30,
   "metadata": {},
   "outputs": [
    {
     "name": "stdout",
     "output_type": "stream",
     "text": [
      "[2.41623130e-01 5.83663910e-01 2.62432172e-01 1.86141613e-01\n",
      " 2.88988191e+02 2.00060656e+01 5.57397880e+00 2.69901884e+01\n",
      " 2.13138771e-01 1.53580540e+00]\n",
      "[1.34774063e+06 7.49846064e+03 7.87508115e+03 7.57209025e+03\n",
      " 7.50388969e+03 5.57463735e+05 1.85607135e+04 3.51530271e+09\n",
      " 1.84042864e+05 2.73516473e+06]\n"
     ]
    }
   ],
   "source": [
    "N = 526\n",
    "training_step = 10\n",
    "cdl_est_values = train_cdl(N, training_step)\n",
    "dr_est_values = train_dr(N, training_step)\n",
    "print(np.array(cdl_est_values).mean(axis=0))\n",
    "print(np.array(dr_est_values).mean(axis=0))"
   ]
  },
  {
   "cell_type": "code",
   "execution_count": null,
   "metadata": {},
   "outputs": [],
   "source": []
  }
 ],
 "metadata": {
  "kernelspec": {
   "display_name": "diffscm_gpu",
   "language": "python",
   "name": "python3"
  },
  "language_info": {
   "codemirror_mode": {
    "name": "ipython",
    "version": 3
   },
   "file_extension": ".py",
   "mimetype": "text/x-python",
   "name": "python",
   "nbconvert_exporter": "python",
   "pygments_lexer": "ipython3",
   "version": "3.7.11"
  }
 },
 "nbformat": 4,
 "nbformat_minor": 2
}
