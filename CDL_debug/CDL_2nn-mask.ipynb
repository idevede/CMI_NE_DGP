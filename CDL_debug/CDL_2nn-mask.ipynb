{
 "cells": [
  {
   "cell_type": "code",
   "execution_count": 1,
   "metadata": {},
   "outputs": [],
   "source": [
    "# %%\n",
    "import time\n",
    "import numpy as np\n",
    "import pickle\n",
    "from numpy.linalg import det\n",
    "\n",
    "import CMINE_lib as CMINE\n",
    "# from Guassian_variables import Data_guassian\n",
    "\n",
    "import pandas as pd\n",
    "from scipy.stats import multivariate_normal\n",
    "import itertools\n",
    "\n",
    "np.random.seed(37)\n",
    "from scipy import stats\n",
    "from sklearn.neighbors import KernelDensity\n",
    "\n",
    "import math\n",
    "\n",
    "import torch \n",
    "import torch.nn as nn\n",
    "\n",
    "import os\n",
    "os.environ['CUDA_VISIBLE_DEVICES'] = '2'"
   ]
  },
  {
   "cell_type": "code",
   "execution_count": 2,
   "metadata": {},
   "outputs": [],
   "source": [
    "def log_sum_exp(value, dim=None, keepdim=False):\n",
    "    \"\"\"Numerically stable implementation of the operation\n",
    "    value.exp().sum(dim, keepdim).log()\n",
    "    \"\"\"\n",
    "    # TODO: torch.max(value, dim=None) threw an error at time of writing\n",
    "    if dim is not None:\n",
    "        m, _ = torch.max(value, dim=dim, keepdim=True)\n",
    "        value0 = value - m\n",
    "        if keepdim is False:\n",
    "            m = m.squeeze(dim)\n",
    "        return m + torch.log(torch.sum(torch.exp(value0),\n",
    "                                       dim=dim, keepdim=keepdim))\n",
    "    else:\n",
    "        m = torch.max(value)\n",
    "        sum_exp = torch.sum(torch.exp(value - m))\n",
    "        if isinstance(sum_exp, Number):\n",
    "            return m + math.log(sum_exp)\n",
    "        else:\n",
    "            return m + torch.log(sum_exp)\n",
    "\n"
   ]
  },
  {
   "cell_type": "code",
   "execution_count": null,
   "metadata": {},
   "outputs": [],
   "source": []
  },
  {
   "cell_type": "code",
   "execution_count": 3,
   "metadata": {},
   "outputs": [],
   "source": [
    "\n",
    "\n",
    "torch.backends.cudnn.enabled = True\n",
    "torch.backends.cudnn.benchmark = True\n"
   ]
  },
  {
   "cell_type": "code",
   "execution_count": 4,
   "metadata": {},
   "outputs": [],
   "source": [
    "class L1OutUB(nn.Module):  # naive upper bound\n",
    "    def __init__(self, x_dim, y_dim, hidden_size):\n",
    "        super(L1OutUB, self).__init__()\n",
    "        y_dim = 1\n",
    "        self.p_mu = nn.Sequential(nn.Linear(x_dim, hidden_size//2),\n",
    "                                       nn.ReLU(),\n",
    "                                       nn.Linear(hidden_size//2, y_dim))\n",
    "\n",
    "        self.p_logvar = nn.Sequential(nn.Linear(x_dim, hidden_size//2),\n",
    "                                       nn.ReLU(),\n",
    "                                       nn.Linear(hidden_size//2, y_dim),\n",
    "                                       nn.Tanh())\n",
    "\n",
    "        self.p_mu_neg = nn.Sequential(nn.Linear(x_dim, hidden_size//2),\n",
    "                                       nn.ReLU(),\n",
    "                                       nn.Linear(hidden_size//2, y_dim))\n",
    "\n",
    "        self.p_logvar_neg = nn.Sequential(nn.Linear(x_dim, hidden_size//2),\n",
    "                                       nn.ReLU(),\n",
    "                                       nn.Linear(hidden_size//2, y_dim),\n",
    "                                       nn.Tanh())\n",
    "        self.linear_map = nn.Linear(1, x_dim)\n",
    "\n",
    "\n",
    "    def get_mu_logvar(self, x_samples):\n",
    "        mu = self.p_mu(x_samples)\n",
    "        logvar = self.p_logvar(x_samples)\n",
    "        return mu, logvar\n",
    "    \n",
    "    def get_mu_logvar_neg(self, x_samples, i = 0):\n",
    "          \n",
    "        mu = self.p_mu_neg(x_samples)\n",
    "        logvar = self.p_logvar_neg(x_samples)\n",
    "        return mu, logvar\n",
    "\n",
    "    def forward(self, x_samples, y_samples): # x_samples = s_t, a ; y_samples = s_{t+1}\n",
    "        batch_size = y_samples.shape[0]\n",
    "        #x_samples[:, 1].masked_fill_(x_samples[:, 1]!=0, float(0))\n",
    "        cmi_dims =[]\n",
    "        \n",
    "        x_samples = x_samples.unsqueeze(-1)\n",
    "        x_samples = self.linear_map(x_samples)\n",
    "\n",
    "       \n",
    "        neg_inf = torch.finfo(x_samples.dtype).min  # 负无穷的值，与张量的数据类型匹配\n",
    "\n",
    "\n",
    "        max_values= torch.mean(x_samples, dim = 1)\n",
    "        for k in range(y_samples.shape[1]):\n",
    "            #max_values, max_indices = torch.max(x_samples, dim=1)\n",
    "            \n",
    "            mu, logvar = self.get_mu_logvar(max_values)\n",
    "            \n",
    "\n",
    "            positive = (- (mu - y_samples[:,k].unsqueeze(-1))**2 /2./logvar.exp() - logvar/2.).sum(dim = -1) #[nsample]\n",
    "\n",
    "            negative = []\n",
    "            \n",
    "            for i in range(x_samples.shape[1]-1):\n",
    "                x_new = x_samples.clone()\n",
    "                x_new[:, i, :] = float(0) #neg_inf  # 使用fill_方法替换指定维度为负无穷\n",
    "\n",
    "                #x_new = x_samples.masked_fill(x_samples.new_zeros(x_samples.size()).bool()[:, i, :], float('-inf'))\n",
    "                #max_values, max_indices = torch.max(x_new, dim=1)\n",
    "                max_values = torch.mean(x_new, dim=1)\n",
    "\n",
    "                #x_temp = x_samples.index_fill_(1, torch.tensor([i]).cuda(), float('-inf'))\n",
    "                mu, logvar = self.get_mu_logvar_neg(max_values)\n",
    "                neg = (- (mu - y_samples[:,k].unsqueeze(-1))**2 /2./logvar.exp() - logvar/2.).sum(dim = -1) #[nsample]\n",
    "                if i == 0:\n",
    "                    negative = neg.unsqueeze(-1)\n",
    "                else:\n",
    "                    negative = torch.cat([negative, neg.unsqueeze(-1)], 1)\n",
    "                    \n",
    "            \n",
    "            cmi_dim = (positive.unsqueeze(-1)- negative ).mean()\n",
    "\n",
    "            cmi_dims.append(cmi_dim.abs().item())\n",
    "\n",
    "       \n",
    "        return cmi_dims\n",
    "    \n",
    "    def loglikeli(self, x_samples, y_samples):\n",
    "        x_samples = x_samples.clone()\n",
    "        y_samples = y_samples.clone()\n",
    "        \n",
    "        num = y_samples.shape[1]\n",
    "        max_values= torch.mean(x_samples, dim=1)\n",
    "        for k in range(y_samples.shape[1]):\n",
    "\n",
    "            \n",
    "            mu, logvar = self.get_mu_logvar(max_values)\n",
    "            lg = (-(mu - y_samples[:,k].unsqueeze(-1))**2 /logvar.exp()-logvar).sum(dim=1).mean(dim=0)\n",
    "            if  k == 0:\n",
    "                lgs = lg\n",
    "            else:\n",
    "                lgs += lg\n",
    "\n",
    "        del x_samples, y_samples\n",
    "        torch.cuda.empty_cache()\n",
    "        #print(\"lg\", lg)\n",
    "        return lgs/num\n",
    "    \n",
    "    def loglikeli_mask(self, x_samples, y_samples):\n",
    "        negative = []\n",
    "        x_samples = x_samples.clone()\n",
    "        y_samples = y_samples.clone()\n",
    "        num = y_samples.shape[1]\n",
    "        for k in range(y_samples.shape[1]):\n",
    "            for i in range(x_samples.shape[1]-1):\n",
    "                x_new = x_samples.clone()\n",
    "                x_new[:, i, :] = float(0) #neg_inf  # creat_mask\n",
    "\n",
    "                #x_new = x_samples.masked_fill(x_samples.new_zeros(x_samples.size()).bool()[:, i, :], float('-inf'))\n",
    "                #max_values, max_indices = torch.max(x_new, dim=1)\n",
    "                max_values = torch.mean(x_new, dim=1)\n",
    "\n",
    "                mu, logvar = self.get_mu_logvar_neg(max_values)\n",
    "                neg =  (-(mu - y_samples[:,k].unsqueeze(-1))**2 /logvar.exp()-logvar).sum(dim=-1) #(- (mu - y_samples)**2 /2./logvar.exp() - logvar/2.).sum(dim = -1) #[nsample]\n",
    "                if i == 0:\n",
    "                    negative = neg.unsqueeze(-1)\n",
    "                else:\n",
    "                    negative = torch.cat([negative, neg.unsqueeze(-1)], 1)\n",
    "            if k == 0:\n",
    "                negatives = negative.sum(dim=1).mean(dim=0)\n",
    "            else:\n",
    "                negatives += negative.sum(dim=1).mean(dim=0)\n",
    "        del x_samples, y_samples\n",
    "        torch.cuda.empty_cache()\n",
    "        #print('mask', negative.sum(dim=1).mean(dim=0))\n",
    "        return negatives/num\n",
    "\n",
    "    def learning_loss(self, x_samples, y_samples):\n",
    "        x_samples = x_samples.unsqueeze(-1)\n",
    "        x_samples = self.linear_map(x_samples)\n",
    "\n",
    "        return  - self.loglikeli_mask(x_samples, y_samples)  - self.loglikeli(x_samples, y_samples)"
   ]
  },
  {
   "cell_type": "code",
   "execution_count": 5,
   "metadata": {},
   "outputs": [],
   "source": [
    "Dim = 5\n",
    "dataset = CMINE.create_dataset_DGP(GenModel=\"\", Params=\"\", Dim=5, N=64)\n",
    "s_t = torch.from_numpy(dataset[0]).float().cuda()\n",
    "s_next = torch.from_numpy(dataset[1]).float().cuda()\n",
    "a = torch.from_numpy(dataset[2]).float().cuda()"
   ]
  },
  {
   "cell_type": "code",
   "execution_count": 6,
   "metadata": {},
   "outputs": [
    {
     "data": {
      "text/plain": [
       "torch.Size([64, 10])"
      ]
     },
     "execution_count": 6,
     "metadata": {},
     "output_type": "execute_result"
    }
   ],
   "source": [
    "s_next.shape"
   ]
  },
  {
   "cell_type": "code",
   "execution_count": 7,
   "metadata": {},
   "outputs": [
    {
     "data": {
      "text/plain": [
       "torch.Size([64, 11])"
      ]
     },
     "execution_count": 7,
     "metadata": {},
     "output_type": "execute_result"
    }
   ],
   "source": [
    "torch.cat([s_t,a], dim=1).shape"
   ]
  },
  {
   "cell_type": "code",
   "execution_count": 8,
   "metadata": {
    "slideshow": {
     "slide_type": "-"
    }
   },
   "outputs": [
    {
     "name": "stdout",
     "output_type": "stream",
     "text": [
      "2074.1579559470892\n"
     ]
    }
   ],
   "source": [
    "# %%\n",
    "sample_dim = 2*Dim\n",
    "batch_size = 64\n",
    "hidden_size = 15\n",
    "learning_rate = 0.005\n",
    "training_steps = 40\n",
    "\n",
    "cubic = False \n",
    "\n",
    "# %%\n",
    "model = L1OutUB(sample_dim + 1, sample_dim, hidden_size).cuda()\n",
    "optimizer = torch.optim.Adam(model.parameters(), learning_rate)\n",
    "\n",
    "# %%\n",
    "\n",
    "# %%\n",
    "mi_est_values = []\n",
    "\n",
    "# %%\n",
    "for step in range(training_steps):\n",
    "    #batch_x, batch_y = sample_correlated_gaussian(rho, dim=sample_dim, batch_size = batch_size, to_cuda = True, cubic = cubic)\n",
    "    dataset = CMINE.create_dataset_DGP(GenModel=\"\", Params=\"\", Dim=Dim, N=64)\n",
    "    s_t = torch.from_numpy(dataset[0]).float().cuda()\n",
    "    s_next = torch.from_numpy(dataset[1]).float().cuda()\n",
    "    a = torch.from_numpy(dataset[2]).float().cuda()\n",
    "    \n",
    "    batch_x = torch.cat([s_t,a], dim=1)\n",
    "    batch_y = s_next\n",
    "    model.eval()\n",
    "    cmi = model(batch_x, batch_y)\n",
    "    mi_est_values.append(cmi)\n",
    "    #print(cmi)\n",
    "    # %%\n",
    "    model.train() \n",
    "\n",
    "    model_loss = model.learning_loss(batch_x, batch_y)\n",
    "\n",
    "    optimizer.zero_grad()\n",
    "    model_loss.backward(retain_graph=True)\n",
    "    optimizer.step()\n",
    "\n",
    "    del batch_x, batch_y\n",
    "    torch.cuda.empty_cache()\n",
    "#print(\"finish training for %s with true MI value = %f\"%('LOO', 6.0))\n",
    "print(np.array(mi_est_values).mean())"
   ]
  },
  {
   "cell_type": "markdown",
   "metadata": {},
   "source": [
    "# Comments\n",
    "The results of:\n",
    "\n",
    "'''\n",
    "np.array(mi_est_values).mean(axis=0)\n",
    "\n",
    "array([3.03903936e+00, 5.72949738e+00, 2.74534021e+00, 2.70783820e+00,\n",
    "       2.98499811e+00, 2.96300891e+01, 5.01361554e+02, 4.31678332e+05,\n",
    "       3.39265994e+03, 2.90363561e+02])\n",
    "\n",
    "'''\n",
    "\n",
    "looks good as: S_t is combined with [Xex_t, Se_t] where Xex_t is only involed by themselves and Se_t can have infulence on next states."
   ]
  },
  {
   "cell_type": "code",
   "execution_count": 9,
   "metadata": {},
   "outputs": [
    {
     "data": {
      "text/plain": [
       "array([4.90645596e+00, 6.18735178e+00, 4.83287817e+00, 4.83604507e+00,\n",
       "       5.17863629e+00, 6.03508307e+01, 2.44899889e+02, 1.18550852e+05,\n",
       "       9.75231513e+03, 2.93890788e+03])"
      ]
     },
     "execution_count": 9,
     "metadata": {},
     "output_type": "execute_result"
    }
   ],
   "source": [
    "np.array(mi_est_values).mean(axis=0)"
   ]
  },
  {
   "cell_type": "code",
   "execution_count": 9,
   "metadata": {},
   "outputs": [
    {
     "data": {
      "text/plain": [
       "array([2.38091953e-01, 4.21907194e-01, 1.67573201e-01, 1.48350109e-01,\n",
       "       2.52860527e-01, 1.13891506e+01, 3.14878151e+01, 1.97110894e+04,\n",
       "       3.76512821e+02, 6.09871622e+02])"
      ]
     },
     "execution_count": 9,
     "metadata": {},
     "output_type": "execute_result"
    }
   ],
   "source": [
    "np.array(mi_est_values).mean(axis=0)"
   ]
  },
  {
   "cell_type": "code",
   "execution_count": null,
   "metadata": {},
   "outputs": [],
   "source": []
  }
 ],
 "metadata": {
  "kernelspec": {
   "display_name": "diffscm_gpu",
   "language": "python",
   "name": "python3"
  },
  "language_info": {
   "codemirror_mode": {
    "name": "ipython",
    "version": 3
   },
   "file_extension": ".py",
   "mimetype": "text/x-python",
   "name": "python",
   "nbconvert_exporter": "python",
   "pygments_lexer": "ipython3",
   "version": "3.7.11"
  }
 },
 "nbformat": 4,
 "nbformat_minor": 2
}
